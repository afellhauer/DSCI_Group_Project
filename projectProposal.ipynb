{
 "cells": [
  {
   "cell_type": "markdown",
   "id": "8b52ae78-1761-4494-b131-9cde7d6b3b1a",
   "metadata": {
    "tags": []
   },
   "source": [
    "# Introduction: Data set and background information"
   ]
  },
  {
   "cell_type": "markdown",
   "id": "7c78bf7c-1fbb-40b4-b71a-90c5f8fc3df3",
   "metadata": {},
   "source": [
    "**Our data set: Estimation of obesity levels based on eating habits and physical condition**\n",
    "\n",
    "We have chosen to explore the ObesityDataSet, which is a dataset that gathered information of individuals. Below is the list of question asks in the survey:\n",
    "\n",
    "1. What is your gender? (Male/Female)\n",
    "2. What is your age?\n",
    "3. What is your height (in meters)?\n",
    "4. What is your weight (in kilograms)?\n",
    "5. Has a family member suffered or suffers from overweight? (Yes/No)\n",
    "6. Do you eat high caloric food frequently? (Yes/No)\n",
    "7. Do you usually eat vegetables in your meals? (Never/Sometimes/Always)\n",
    "8. How many main meals do you have daily? (1-2, 3, 3+)\n",
    "9. Do you eat any food between meals? (No/Sometimes/Frequently/Always)\n",
    "10. Do you smoke? (Yes/No)\n",
    "11. How much water do you drink daily (in liters)? (<1L, 1-2L, >2L)\n",
    "12. Do you monitor the calories you eat daily? (Yes/No)\n",
    "13. How often do you have physical activity (days)? (0, 1-2, 2-4, 4-5)\n",
    "14. How much time do you use technological devices such as cell phone, videogames, television, computer, and others (hours)? (0-2, 3-5, >5)\n",
    "15. How often do you drink alcohol? (Do not drink/Sometimes/Frequently/Always)\n",
    "16. Which transportation do you usually use? (Automobile/Motorbike/Bike/Public Transportation/Walking)\n",
    "\n",
    "*From Palechor & Manotas (2019)*"
   ]
  },
  {
   "cell_type": "markdown",
   "id": "8b090f39-a393-40b1-a941-8c656b5470a5",
   "metadata": {},
   "source": [
    "The data set consists of 17 columns. We have lists the column name and its corresponding question from above:"
   ]
  },
  {
   "cell_type": "code",
   "execution_count": 50,
   "id": "d23b8166-cd06-46f9-8916-1b715c799b4a",
   "metadata": {
    "tags": []
   },
   "outputs": [
    {
     "data": {
      "text/html": [
       "<table class=\"dataframe\">\n",
       "<caption>A tibble: 16 × 3</caption>\n",
       "<thead>\n",
       "\t<tr><th scope=col>Questions Number</th><th scope=col>Variable Name</th><th scope=col>Value information</th></tr>\n",
       "\t<tr><th scope=col>&lt;int&gt;</th><th scope=col>&lt;chr&gt;</th><th scope=col>&lt;chr&gt;</th></tr>\n",
       "</thead>\n",
       "<tbody>\n",
       "\t<tr><td> 1</td><td>Gender                        </td><td>Female or Male                                                                                                                </td></tr>\n",
       "\t<tr><td> 2</td><td>Age                           </td><td>double: ages 14-61                                                                                                            </td></tr>\n",
       "\t<tr><td> 3</td><td>Height                        </td><td>double: in m                                                                                                                  </td></tr>\n",
       "\t<tr><td> 4</td><td>Weight                        </td><td>double: in kg                                                                                                                 </td></tr>\n",
       "\t<tr><td> 5</td><td>family_history_with_overweight</td><td>yes or no                                                                                                                     </td></tr>\n",
       "\t<tr><td> 6</td><td>FAVC                          </td><td>1 = never, 2 = sometimes, 3 = always                                                                                          </td></tr>\n",
       "\t<tr><td> 7</td><td>FCVC                          </td><td>1-4 meals                                                                                                                     </td></tr>\n",
       "\t<tr><td> 8</td><td>NCP                           </td><td>1 = no, 2 = sometimes, 3 = frequently, 4 = always                                                                             </td></tr>\n",
       "\t<tr><td> 9</td><td>CAEC                          </td><td>yes or no                                                                                                                     </td></tr>\n",
       "\t<tr><td>10</td><td>SMOKE                         </td><td>1 = less than 1 liter, 2 = 1-2 liters, 3 = more than 2 liters                                                                 </td></tr>\n",
       "\t<tr><td>11</td><td>CH2O                          </td><td>yes or no                                                                                                                     </td></tr>\n",
       "\t<tr><td>12</td><td>SCC                           </td><td>0 = none, 1 = 1-2 days, 2 = 2-4 days, 3 = 4-5 days                                                                            </td></tr>\n",
       "\t<tr><td>13</td><td>FAF                           </td><td>0 = 0-2 hours, 1 = 3-5 hours, 2 = more than 5 hours                                                                           </td></tr>\n",
       "\t<tr><td>14</td><td>TUE                           </td><td>1 = never, 2 = sometimes, 3 = frequently, 4 = always                                                                          </td></tr>\n",
       "\t<tr><td>15</td><td>CALC                          </td><td>automobile, motorbike, bike, public transportation, or walking                                                                </td></tr>\n",
       "\t<tr><td>16</td><td>MTRANS                        </td><td>Insufficient_Weight, Normal_Weight, Overweight_Level_I, Overweight_Level_II, Obesity_Type_I, Obesity_Type_II, Obesity_Type_III</td></tr>\n",
       "</tbody>\n",
       "</table>\n"
      ],
      "text/latex": [
       "A tibble: 16 × 3\n",
       "\\begin{tabular}{lll}\n",
       " Questions Number & Variable Name & Value information\\\\\n",
       " <int> & <chr> & <chr>\\\\\n",
       "\\hline\n",
       "\t  1 & Gender                         & Female or Male                                                                                                                \\\\\n",
       "\t  2 & Age                            & double: ages 14-61                                                                                                            \\\\\n",
       "\t  3 & Height                         & double: in m                                                                                                                  \\\\\n",
       "\t  4 & Weight                         & double: in kg                                                                                                                 \\\\\n",
       "\t  5 & family\\_history\\_with\\_overweight & yes or no                                                                                                                     \\\\\n",
       "\t  6 & FAVC                           & 1 = never, 2 = sometimes, 3 = always                                                                                          \\\\\n",
       "\t  7 & FCVC                           & 1-4 meals                                                                                                                     \\\\\n",
       "\t  8 & NCP                            & 1 = no, 2 = sometimes, 3 = frequently, 4 = always                                                                             \\\\\n",
       "\t  9 & CAEC                           & yes or no                                                                                                                     \\\\\n",
       "\t 10 & SMOKE                          & 1 = less than 1 liter, 2 = 1-2 liters, 3 = more than 2 liters                                                                 \\\\\n",
       "\t 11 & CH2O                           & yes or no                                                                                                                     \\\\\n",
       "\t 12 & SCC                            & 0 = none, 1 = 1-2 days, 2 = 2-4 days, 3 = 4-5 days                                                                            \\\\\n",
       "\t 13 & FAF                            & 0 = 0-2 hours, 1 = 3-5 hours, 2 = more than 5 hours                                                                           \\\\\n",
       "\t 14 & TUE                            & 1 = never, 2 = sometimes, 3 = frequently, 4 = always                                                                          \\\\\n",
       "\t 15 & CALC                           & automobile, motorbike, bike, public transportation, or walking                                                                \\\\\n",
       "\t 16 & MTRANS                         & Insufficient\\_Weight, Normal\\_Weight, Overweight\\_Level\\_I, Overweight\\_Level\\_II, Obesity\\_Type\\_I, Obesity\\_Type\\_II, Obesity\\_Type\\_III\\\\\n",
       "\\end{tabular}\n"
      ],
      "text/markdown": [
       "\n",
       "A tibble: 16 × 3\n",
       "\n",
       "| Questions Number &lt;int&gt; | Variable Name &lt;chr&gt; | Value information &lt;chr&gt; |\n",
       "|---|---|---|\n",
       "|  1 | Gender                         | Female or Male                                                                                                                 |\n",
       "|  2 | Age                            | double: ages 14-61                                                                                                             |\n",
       "|  3 | Height                         | double: in m                                                                                                                   |\n",
       "|  4 | Weight                         | double: in kg                                                                                                                  |\n",
       "|  5 | family_history_with_overweight | yes or no                                                                                                                      |\n",
       "|  6 | FAVC                           | 1 = never, 2 = sometimes, 3 = always                                                                                           |\n",
       "|  7 | FCVC                           | 1-4 meals                                                                                                                      |\n",
       "|  8 | NCP                            | 1 = no, 2 = sometimes, 3 = frequently, 4 = always                                                                              |\n",
       "|  9 | CAEC                           | yes or no                                                                                                                      |\n",
       "| 10 | SMOKE                          | 1 = less than 1 liter, 2 = 1-2 liters, 3 = more than 2 liters                                                                  |\n",
       "| 11 | CH2O                           | yes or no                                                                                                                      |\n",
       "| 12 | SCC                            | 0 = none, 1 = 1-2 days, 2 = 2-4 days, 3 = 4-5 days                                                                             |\n",
       "| 13 | FAF                            | 0 = 0-2 hours, 1 = 3-5 hours, 2 = more than 5 hours                                                                            |\n",
       "| 14 | TUE                            | 1 = never, 2 = sometimes, 3 = frequently, 4 = always                                                                           |\n",
       "| 15 | CALC                           | automobile, motorbike, bike, public transportation, or walking                                                                 |\n",
       "| 16 | MTRANS                         | Insufficient_Weight, Normal_Weight, Overweight_Level_I, Overweight_Level_II, Obesity_Type_I, Obesity_Type_II, Obesity_Type_III |\n",
       "\n"
      ],
      "text/plain": [
       "   Questions Number Variable Name                 \n",
       "1   1               Gender                        \n",
       "2   2               Age                           \n",
       "3   3               Height                        \n",
       "4   4               Weight                        \n",
       "5   5               family_history_with_overweight\n",
       "6   6               FAVC                          \n",
       "7   7               FCVC                          \n",
       "8   8               NCP                           \n",
       "9   9               CAEC                          \n",
       "10 10               SMOKE                         \n",
       "11 11               CH2O                          \n",
       "12 12               SCC                           \n",
       "13 13               FAF                           \n",
       "14 14               TUE                           \n",
       "15 15               CALC                          \n",
       "16 16               MTRANS                        \n",
       "   Value information                                                                                                             \n",
       "1  Female or Male                                                                                                                \n",
       "2  double: ages 14-61                                                                                                            \n",
       "3  double: in m                                                                                                                  \n",
       "4  double: in kg                                                                                                                 \n",
       "5  yes or no                                                                                                                     \n",
       "6  1 = never, 2 = sometimes, 3 = always                                                                                          \n",
       "7  1-4 meals                                                                                                                     \n",
       "8  1 = no, 2 = sometimes, 3 = frequently, 4 = always                                                                             \n",
       "9  yes or no                                                                                                                     \n",
       "10 1 = less than 1 liter, 2 = 1-2 liters, 3 = more than 2 liters                                                                 \n",
       "11 yes or no                                                                                                                     \n",
       "12 0 = none, 1 = 1-2 days, 2 = 2-4 days, 3 = 4-5 days                                                                            \n",
       "13 0 = 0-2 hours, 1 = 3-5 hours, 2 = more than 5 hours                                                                           \n",
       "14 1 = never, 2 = sometimes, 3 = frequently, 4 = always                                                                          \n",
       "15 automobile, motorbike, bike, public transportation, or walking                                                                \n",
       "16 Insufficient_Weight, Normal_Weight, Overweight_Level_I, Overweight_Level_II, Obesity_Type_I, Obesity_Type_II, Obesity_Type_III"
      ]
     },
     "metadata": {},
     "output_type": "display_data"
    }
   ],
   "source": [
    "library(kableExtra)\n",
    "questions <- c(seq(from = 1, to = 16))\n",
    "variables <- c(\"Gender\", \"Age\", \"Height\", \"Weight\", \"family_history_with_overweight\", \n",
    "               \"FAVC\", \"FCVC\", \"NCP\", \"CAEC\", \"SMOKE\", \"CH2O\", \"SCC\", \"FAF\", \"TUE\",\n",
    "               \"CALC\", \"MTRANS\")\n",
    "values <- c(\"Female or Male\", \"double: ages 14-61\", \"double: in m\", \"double: in kg\", \"yes or no\", \n",
    "            \"1 = never, 2 = sometimes, 3 = always\", \"1-4 meals\", \"1 = no, 2 = sometimes, 3 = frequently, 4 = always\",\n",
    "            \"yes or no\", \"1 = less than 1 liter, 2 = 1-2 liters, 3 = more than 2 liters\", \"yes or no\", \n",
    "            \"0 = none, 1 = 1-2 days, 2 = 2-4 days, 3 = 4-5 days\", \"0 = 0-2 hours, 1 = 3-5 hours, 2 = more than 5 hours\", \n",
    "            \"1 = never, 2 = sometimes, 3 = frequently, 4 = always\", \"automobile, motorbike, bike, public transportation, or walking\",\n",
    "            \"Insufficient_Weight, Normal_Weight, Overweight_Level_I, Overweight_Level_II, Obesity_Type_I, Obesity_Type_II, Obesity_Type_III\")\n",
    "table_obesity_values <- tibble(\"Questions Number\" = questions, \"Variable Name\" = variables, \"Value information\" = values)\n",
    "table_obesity_values"
   ]
  },
  {
   "cell_type": "markdown",
   "id": "41a9d05b-e635-468f-bf07-b4d74948924a",
   "metadata": {},
   "source": [
    "\n",
    "\n",
    "\n",
    "#### **Some important notes about the data:**\n",
    "\n",
    "As noted by the authors, the data set is unbalanced (Palechor & Manotas, 2019). They performed data balancing by generating synthetic data. The results are demonstrated in the Figure 1 and Figure 2."
   ]
  },
  {
   "cell_type": "markdown",
   "id": "41f287d1-af68-43a1-8c83-bad54bf68a2d",
   "metadata": {
    "tags": []
   },
   "source": [
    "### Figure 1: Barplot of number of records for each obesity level category of the unabalanced data set (Palechor & Manotas, 2019)"
   ]
  },
  {
   "cell_type": "markdown",
   "id": "9aa45f56-967d-4f9e-b4a9-ddf7e41c3dfc",
   "metadata": {
    "tags": []
   },
   "source": []
  },
  {
   "cell_type": "markdown",
   "id": "97035058-e8b1-4207-80ed-04076c344097",
   "metadata": {
    "tags": []
   },
   "source": [
    "### Figure 2: Barplot of number of records for each obesity level category of the balanced data set (Palechor & Manotas, 2019)"
   ]
  },
  {
   "attachments": {
    "2868ca51-eaf2-4afa-8bce-ba15fc410068.jpg": {
     "image/jpeg": "[encoded data removed]"
    }
   },
   "cell_type": "markdown",
   "id": "5df60b94-b07b-4561-be7d-584b4ee85442",
   "metadata": {},
   "source": [
    "![balanced.jpg](attachment:2868ca51-eaf2-4afa-8bce-ba15fc410068.jpg)"
   ]
  },
  {
   "cell_type": "code",
   "execution_count": 1,
   "id": "74bf0e75-419f-461c-8f37-a3f12e3db6d5",
   "metadata": {
    "tags": []
   },
   "outputs": [
    {
     "name": "stderr",
     "output_type": "stream",
     "text": [
      "── \u001b[1mAttaching packages\u001b[22m ─────────────────────────────────────── tidyverse 1.3.2 ──\n",
      "\u001b[32m✔\u001b[39m \u001b[34mggplot2\u001b[39m 3.4.2     \u001b[32m✔\u001b[39m \u001b[34mpurrr  \u001b[39m 1.0.1\n",
      "\u001b[32m✔\u001b[39m \u001b[34mtibble \u001b[39m 3.2.1     \u001b[32m✔\u001b[39m \u001b[34mdplyr  \u001b[39m 1.1.1\n",
      "\u001b[32m✔\u001b[39m \u001b[34mtidyr  \u001b[39m 1.3.0     \u001b[32m✔\u001b[39m \u001b[34mstringr\u001b[39m 1.5.0\n",
      "\u001b[32m✔\u001b[39m \u001b[34mreadr  \u001b[39m 2.1.3     \u001b[32m✔\u001b[39m \u001b[34mforcats\u001b[39m 0.5.2\n",
      "── \u001b[1mConflicts\u001b[22m ────────────────────────────────────────── tidyverse_conflicts() ──\n",
      "\u001b[31m✖\u001b[39m \u001b[34mdplyr\u001b[39m::\u001b[32mfilter()\u001b[39m masks \u001b[34mstats\u001b[39m::filter()\n",
      "\u001b[31m✖\u001b[39m \u001b[34mdplyr\u001b[39m::\u001b[32mlag()\u001b[39m    masks \u001b[34mstats\u001b[39m::lag()\n",
      "── \u001b[1mAttaching packages\u001b[22m ────────────────────────────────────── tidymodels 1.0.0 ──\n",
      "\n",
      "\u001b[32m✔\u001b[39m \u001b[34mbroom       \u001b[39m 1.0.2     \u001b[32m✔\u001b[39m \u001b[34mrsample     \u001b[39m 1.1.1\n",
      "\u001b[32m✔\u001b[39m \u001b[34mdials       \u001b[39m 1.1.0     \u001b[32m✔\u001b[39m \u001b[34mtune        \u001b[39m 1.0.1\n",
      "\u001b[32m✔\u001b[39m \u001b[34minfer       \u001b[39m 1.0.4     \u001b[32m✔\u001b[39m \u001b[34mworkflows   \u001b[39m 1.1.2\n",
      "\u001b[32m✔\u001b[39m \u001b[34mmodeldata   \u001b[39m 1.0.1     \u001b[32m✔\u001b[39m \u001b[34mworkflowsets\u001b[39m 1.0.0\n",
      "\u001b[32m✔\u001b[39m \u001b[34mparsnip     \u001b[39m 1.0.3     \u001b[32m✔\u001b[39m \u001b[34myardstick   \u001b[39m 1.1.0\n",
      "\u001b[32m✔\u001b[39m \u001b[34mrecipes     \u001b[39m 1.0.4     \n",
      "\n",
      "── \u001b[1mConflicts\u001b[22m ───────────────────────────────────────── tidymodels_conflicts() ──\n",
      "\u001b[31m✖\u001b[39m \u001b[34mscales\u001b[39m::\u001b[32mdiscard()\u001b[39m masks \u001b[34mpurrr\u001b[39m::discard()\n",
      "\u001b[31m✖\u001b[39m \u001b[34mdplyr\u001b[39m::\u001b[32mfilter()\u001b[39m   masks \u001b[34mstats\u001b[39m::filter()\n",
      "\u001b[31m✖\u001b[39m \u001b[34mrecipes\u001b[39m::\u001b[32mfixed()\u001b[39m  masks \u001b[34mstringr\u001b[39m::fixed()\n",
      "\u001b[31m✖\u001b[39m \u001b[34mdplyr\u001b[39m::\u001b[32mlag()\u001b[39m      masks \u001b[34mstats\u001b[39m::lag()\n",
      "\u001b[31m✖\u001b[39m \u001b[34myardstick\u001b[39m::\u001b[32mspec()\u001b[39m masks \u001b[34mreadr\u001b[39m::spec()\n",
      "\u001b[31m✖\u001b[39m \u001b[34mrecipes\u001b[39m::\u001b[32mstep()\u001b[39m   masks \u001b[34mstats\u001b[39m::step()\n",
      "\u001b[34m•\u001b[39m Use suppressPackageStartupMessages() to eliminate package startup messages\n",
      "\n"
     ]
    }
   ],
   "source": [
    "library(tidyverse)\n",
    "library(repr)\n",
    "library(tidymodels)"
   ]
  },
  {
   "cell_type": "code",
   "execution_count": 24,
   "id": "84005a4f-452b-4ce9-b690-b7bd9208ce52",
   "metadata": {
    "tags": []
   },
   "outputs": [
    {
     "name": "stderr",
     "output_type": "stream",
     "text": [
      "\u001b[1mRows: \u001b[22m\u001b[34m2111\u001b[39m \u001b[1mColumns: \u001b[22m\u001b[34m17\u001b[39m\n",
      "\u001b[36m──\u001b[39m \u001b[1mColumn specification\u001b[22m \u001b[36m────────────────────────────────────────────────────────\u001b[39m\n",
      "\u001b[1mDelimiter:\u001b[22m \",\"\n",
      "\u001b[31mchr\u001b[39m (9): Gender, family_history_with_overweight, FAVC, CAEC, SMOKE, SCC, CAL...\n",
      "\u001b[32mdbl\u001b[39m (8): Age, Height, Weight, FCVC, NCP, CH2O, FAF, TUE\n",
      "\n",
      "\u001b[36mℹ\u001b[39m Use `spec()` to retrieve the full column specification for this data.\n",
      "\u001b[36mℹ\u001b[39m Specify the column types or set `show_col_types = FALSE` to quiet this message.\n"
     ]
    }
   ],
   "source": [
    "obesity <- read_csv(\"data/obesity_balanced.csv\")"
   ]
  },
  {
   "cell_type": "code",
   "execution_count": 25,
   "id": "40bb71af-46ba-40d8-8abd-f66373156f85",
   "metadata": {
    "tags": []
   },
   "outputs": [],
   "source": [
    "obesity <- obesity |>\n",
    "    mutate(CAEC = as_factor(CAEC))\n",
    "\n",
    "obesity <- obesity |>\n",
    "    mutate(Gender = as_factor(Gender))\n",
    "\n",
    "obesity_names <- obesity |>\n",
    "    rename(\"obesity_level\" = NObeyesdad, \n",
    "           \"gender\" = Gender, \n",
    "           \"age\" = Age, \n",
    "           \"height\" = Height, \n",
    "           \"weight\" = Weight,\n",
    "           \"high_caloric_freq\" = FAVC, \n",
    "           \"eat_veg_w_meal\" = FCVC,\n",
    "           \"main_meals_daily\" = NCP, \n",
    "           \"food_btw_meals\" = CAEC, \n",
    "           \"smoker\" = SMOKE, \n",
    "           \"water\" = CH2O, \n",
    "           \"monitor_calories\" = SCC, \n",
    "           \"physical_freq\" = FAF, \n",
    "           \"screen_time\" = TUE,\n",
    "           \"alcohol\" = CALC, \n",
    "           \"transportation_mode\" = MTRANS)"
   ]
  },
  {
   "cell_type": "markdown",
   "id": "1b10b594-fe43-4e1e-8f31-b7a145218125",
   "metadata": {},
   "source": [
    "Since we are only curious about predicting normal, overweight, and obesity, we are going to transform the data in the following ways:\n",
    "1. Combine all obesity types under a single factor: obesity\n",
    "2. filter out underweight as it is outside of our scope"
   ]
  },
  {
   "cell_type": "code",
   "execution_count": 51,
   "id": "f89b5020-fd67-4b60-80ef-acf3fca8c439",
   "metadata": {
    "tags": []
   },
   "outputs": [
    {
     "name": "stdout",
     "output_type": "stream",
     "text": [
      "Rows: 1,839\n",
      "Columns: 17\n",
      "$ gender                         \u001b[3m\u001b[90m<fct>\u001b[39m\u001b[23m Female, Female, Male, Male, Male, Male,…\n",
      "$ age                            \u001b[3m\u001b[90m<dbl>\u001b[39m\u001b[23m 21, 21, 23, 27, 22, 29, 23, 22, 24, 22,…\n",
      "$ height                         \u001b[3m\u001b[90m<dbl>\u001b[39m\u001b[23m 1.62, 1.52, 1.80, 1.80, 1.78, 1.62, 1.5…\n",
      "$ weight                         \u001b[3m\u001b[90m<dbl>\u001b[39m\u001b[23m 64.0, 56.0, 77.0, 87.0, 89.8, 53.0, 55.…\n",
      "$ family_history_with_overweight \u001b[3m\u001b[90m<chr>\u001b[39m\u001b[23m \"yes\", \"yes\", \"yes\", \"no\", \"no\", \"no\", …\n",
      "$ high_caloric_freq              \u001b[3m\u001b[90m<chr>\u001b[39m\u001b[23m \"no\", \"no\", \"no\", \"no\", \"no\", \"yes\", \"y…\n",
      "$ eat_veg_w_meal                 \u001b[3m\u001b[90m<dbl>\u001b[39m\u001b[23m 2, 3, 2, 3, 2, 2, 3, 2, 3, 2, 3, 2, 3, …\n",
      "$ main_meals_daily               \u001b[3m\u001b[90m<dbl>\u001b[39m\u001b[23m 3, 3, 3, 3, 1, 3, 3, 3, 3, 3, 3, 3, 3, …\n",
      "$ food_btw_meals                 \u001b[3m\u001b[90m<fct>\u001b[39m\u001b[23m Sometimes, Sometimes, Sometimes, Someti…\n",
      "$ smoker                         \u001b[3m\u001b[90m<chr>\u001b[39m\u001b[23m \"no\", \"yes\", \"no\", \"no\", \"no\", \"no\", \"n…\n",
      "$ water                          \u001b[3m\u001b[90m<dbl>\u001b[39m\u001b[23m 2, 3, 2, 2, 2, 2, 2, 2, 2, 2, 3, 2, 3, …\n",
      "$ monitor_calories               \u001b[3m\u001b[90m<chr>\u001b[39m\u001b[23m \"no\", \"yes\", \"no\", \"no\", \"no\", \"no\", \"n…\n",
      "$ physical_freq                  \u001b[3m\u001b[90m<dbl>\u001b[39m\u001b[23m 0, 3, 2, 2, 0, 0, 1, 3, 1, 1, 2, 2, 2, …\n",
      "$ screen_time                    \u001b[3m\u001b[90m<dbl>\u001b[39m\u001b[23m 1, 0, 1, 0, 0, 0, 0, 0, 1, 1, 2, 1, 0, …\n",
      "$ alcohol                        \u001b[3m\u001b[90m<chr>\u001b[39m\u001b[23m \"no\", \"Sometimes\", \"Frequently\", \"Frequ…\n",
      "$ transportation_mode            \u001b[3m\u001b[90m<chr>\u001b[39m\u001b[23m \"Public_Transportation\", \"Public_Transp…\n",
      "$ obesity_level                  \u001b[3m\u001b[90m<chr>\u001b[39m\u001b[23m \"Normal_Weight\", \"Normal_Weight\", \"Norm…\n"
     ]
    }
   ],
   "source": [
    "obesity_filtered <- obesity_names |>\n",
    "    filter(obesity_level != \"Insufficient_Weight\")\n",
    "obese <- c(\"Obesity_Type_I\", \"Obesity_Type_II\", \"Obesity_Type_III\")\n",
    "overweight <- c(\"Overweight_Level_I\", \"Overweight_Level_II\")\n",
    "obesity_mutated <- obesity_filtered |>\n",
    "    mutate(obesity_level = ifelse(obesity_level %in% obese, \"Obese\", obesity_level)) |>\n",
    "    mutate(obesity_level = ifelse(obesity_level %in% overweight, \"Overweight\", obesity_level))\n",
    "\n",
    "glimpse(obesity_mutated)"
   ]
  },
  {
   "cell_type": "markdown",
   "id": "d6a2aaee-2499-4427-8cc8-2e6945816d45",
   "metadata": {},
   "source": [
    "# References"
   ]
  },
  {
   "cell_type": "markdown",
   "id": "0570f65e-5e71-431a-bccf-fa5ca3e0a200",
   "metadata": {},
   "source": [
    "Palechor, F. M., &amp; Manotas, A. de. (2019). Dataset for estimation of obesity levels based on eating habits and physical condition in individuals from Colombia, Peru and Mexico. Data in Brief, 25, 104344. https://doi.org/10.1016/j.dib.2019.104344 "
   ]
  },
  {
   "cell_type": "code",
   "execution_count": null,
   "id": "2b11dff5-844d-43c1-adda-1d1bf497f853",
   "metadata": {},
   "outputs": [],
   "source": []
  }
 ],
 "metadata": {
  "kernelspec": {
   "display_name": "R",
   "language": "R",
   "name": "ir"
  },
  "language_info": {
   "codemirror_mode": "r",
   "file_extension": ".r",
   "mimetype": "text/x-r-source",
   "name": "R",
   "pygments_lexer": "r",
   "version": "4.2.2"
  }
 },
 "nbformat": 4,
 "nbformat_minor": 5
}
