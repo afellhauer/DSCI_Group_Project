{
 "cells": [
  {
   "cell_type": "markdown",
   "id": "83b24542-1b30-4820-a489-f2b81f41db88",
   "metadata": {
    "tags": []
   },
   "source": [
    "# Project Proposal: Predicting User Knowledge from Study Habits and Exam Performance\n"
   ]
  },
  {
   "cell_type": "markdown",
   "id": "7c6df1be-26a9-4b6b-80ad-f54d7ab62fb2",
   "metadata": {},
   "source": [
    "**DSCI 100 009: Group 23** <br>\n",
    "Allison Fellhauer (38395166) <br>\n",
    "Agastya Kaul (78851433) <br>\n",
    "Grace Li (27986504) <br>\n",
    "Xiangyuan Li (57380230) <br>"
   ]
  },
  {
   "cell_type": "markdown",
   "id": "663ff831-4373-4bdf-a8a0-7b8ae36aa4cb",
   "metadata": {
    "tags": []
   },
   "source": [
    "## Introduction: Data set and background information"
   ]
  },
  {
   "cell_type": "markdown",
   "id": "b4836662-bbd7-4151-b4ff-040c6768ab60",
   "metadata": {},
   "source": [
    "### Background Information"
   ]
  },
  {
   "cell_type": "markdown",
   "id": "919bbb4b-6fd4-4240-8cc3-bf1526ed1997",
   "metadata": {},
   "source": [
    "#### User Modeling and User Knowledge"
   ]
  },
  {
   "cell_type": "markdown",
   "id": "d3bead10-9fbb-417d-a7e5-a996abc95b86",
   "metadata": {},
   "source": [
    "User modeling is used to create a representation of a user based on their interactions with the system ([Chignell & Hancock, 1988](https://doi.org/10.1016/B978-0-444-70536-5.50051-8)). This model can be used to personalize and improve a user’s experience  ([Kahraman et al. 2013](https://doi.org/10.1016/j.knosys.2012.08.009)). For example, in e-learning, a user model can be used to track a student’s knowledge level to adapt their learning experience ([Al-Tarabily et al. 2018](https://doi.org/10.1109/ACCESS.2018.2847334)) .\n",
    "\n",
    "In the dataset [User Knowledge Modeling](https://doi.org/10.24432/C5231X), the authors investigate which user interactions should be used to create the best user knowledge model ([Kahraman et al. 2013](https://doi.org/10.1016/j.knosys.2012.08.009)). The goal is to dynamically adjust the student’s learning experience by building a model that classifies their knowledge-level ([Kahraman et al. 2013](https://doi.org/10.1016/j.knosys.2012.08.009))."
   ]
  },
  {
   "cell_type": "markdown",
   "id": "30a735b4-84aa-4916-91a2-5b38cd4595cc",
   "metadata": {},
   "source": [
    "### About the data set"
   ]
  },
  {
   "cell_type": "markdown",
   "id": "e6fcb30f-7ffe-4782-bb50-e4a38eda42b6",
   "metadata": {
    "tags": []
   },
   "source": [
    "**Our data set:** [User Knowledge Modeling](https://doi.org/10.24432/C5231X)\n",
    "\n",
    "We have chosen to explore the User Knowledge Modeling data set, which is a data set that classifies users' knowledge of a topic (electrical DC machines) ([Kahraman et al. 2013](https://doi.org/10.1016/j.knosys.2012.08.009)).\n",
    "\n",
    "There are 258 observations and 6 variables (5 features and 1 target) in the data set."
   ]
  },
  {
   "cell_type": "markdown",
   "id": "d0c6b50c-ce3d-4472-8bfe-9857cebe2298",
   "metadata": {},
   "source": [
    "#### Features (the predictors)\n",
    "The features are elements of the user model that include two topics:\n",
    "\n",
    "A) Goal topics (learning objects):\n",
    "- The degree of time spent studying the material [STG, double]\n",
    "- The degree of repetition of the material [SCG, double]\n",
    "- The performance in exams [PEG, double]\n",
    "\n",
    "\n",
    "B) Prerequisite topics:\n",
    "- The degree of study time corresponding to the prerequisite objects [STR, double]\n",
    "- The knowledge level of the prerequisite objects [LPR, double]"
   ]
  },
  {
   "cell_type": "markdown",
   "id": "f4345ed9-ef87-48da-bd26-e8c2e3013d9a",
   "metadata": {
    "tags": []
   },
   "source": [
    "#### Target (predicted class)\n",
    "User knowledge level [UNS, factor]\n",
    "\n",
    "Categorized into 4 levels:\n",
    "- very low (beginner)\n",
    "- low (intermediate)\n",
    "- middle (expert) \n",
    "- high (advanced)"
   ]
  },
  {
   "cell_type": "markdown",
   "id": "75629b46-e8e6-45e0-807e-8be1a9cd839d",
   "metadata": {},
   "source": [
    "### Our Question"
   ]
  },
  {
   "cell_type": "markdown",
   "id": "3fc7d736-fe54-4b04-bb2c-8c1a47d3ad64",
   "metadata": {},
   "source": [
    "**Can we predict the knowledge level of a user given their study habits and their performance on the exam?**\n",
    "\n",
    "We classify study habits as the time spent studying and the degree of repetition, which contributes to increased learning. Exam performance is a way to assess learning. Therefore, our hypothesis is that if a user has good study habits and does well on the exam, we can infer that they have a greater knowledge level."
   ]
  },
  {
   "cell_type": "markdown",
   "id": "8cfb2c02-763e-4eee-97e0-1085c158f5f7",
   "metadata": {},
   "source": [
    "## Preliminary exploratory data analysis"
   ]
  },
  {
   "cell_type": "markdown",
   "id": "5b8cbb23-d3e9-4d00-bddb-4dbc01c2f55e",
   "metadata": {},
   "source": [
    "### Loading necessary libraries and reading in the data"
   ]
  },
  {
   "cell_type": "code",
   "execution_count": 1,
   "id": "fa051463-32e8-45c5-8617-fb81ff48d763",
   "metadata": {
    "tags": []
   },
   "outputs": [
    {
     "name": "stderr",
     "output_type": "stream",
     "text": [
      "── \u001b[1mAttaching packages\u001b[22m ─────────────────────────────────────── tidyverse 1.3.2 ──\n",
      "\u001b[32m✔\u001b[39m \u001b[34mggplot2\u001b[39m 3.4.2     \u001b[32m✔\u001b[39m \u001b[34mpurrr  \u001b[39m 1.0.1\n",
      "\u001b[32m✔\u001b[39m \u001b[34mtibble \u001b[39m 3.2.1     \u001b[32m✔\u001b[39m \u001b[34mdplyr  \u001b[39m 1.1.1\n",
      "\u001b[32m✔\u001b[39m \u001b[34mtidyr  \u001b[39m 1.3.0     \u001b[32m✔\u001b[39m \u001b[34mstringr\u001b[39m 1.5.0\n",
      "\u001b[32m✔\u001b[39m \u001b[34mreadr  \u001b[39m 2.1.3     \u001b[32m✔\u001b[39m \u001b[34mforcats\u001b[39m 0.5.2\n",
      "── \u001b[1mConflicts\u001b[22m ────────────────────────────────────────── tidyverse_conflicts() ──\n",
      "\u001b[31m✖\u001b[39m \u001b[34mdplyr\u001b[39m::\u001b[32mfilter()\u001b[39m masks \u001b[34mstats\u001b[39m::filter()\n",
      "\u001b[31m✖\u001b[39m \u001b[34mdplyr\u001b[39m::\u001b[32mlag()\u001b[39m    masks \u001b[34mstats\u001b[39m::lag()\n",
      "── \u001b[1mAttaching packages\u001b[22m ────────────────────────────────────── tidymodels 1.0.0 ──\n",
      "\n",
      "\u001b[32m✔\u001b[39m \u001b[34mbroom       \u001b[39m 1.0.2     \u001b[32m✔\u001b[39m \u001b[34mrsample     \u001b[39m 1.1.1\n",
      "\u001b[32m✔\u001b[39m \u001b[34mdials       \u001b[39m 1.1.0     \u001b[32m✔\u001b[39m \u001b[34mtune        \u001b[39m 1.0.1\n",
      "\u001b[32m✔\u001b[39m \u001b[34minfer       \u001b[39m 1.0.4     \u001b[32m✔\u001b[39m \u001b[34mworkflows   \u001b[39m 1.1.2\n",
      "\u001b[32m✔\u001b[39m \u001b[34mmodeldata   \u001b[39m 1.0.1     \u001b[32m✔\u001b[39m \u001b[34mworkflowsets\u001b[39m 1.0.0\n",
      "\u001b[32m✔\u001b[39m \u001b[34mparsnip     \u001b[39m 1.0.3     \u001b[32m✔\u001b[39m \u001b[34myardstick   \u001b[39m 1.1.0\n",
      "\u001b[32m✔\u001b[39m \u001b[34mrecipes     \u001b[39m 1.0.4     \n",
      "\n",
      "── \u001b[1mConflicts\u001b[22m ───────────────────────────────────────── tidymodels_conflicts() ──\n",
      "\u001b[31m✖\u001b[39m \u001b[34mscales\u001b[39m::\u001b[32mdiscard()\u001b[39m masks \u001b[34mpurrr\u001b[39m::discard()\n",
      "\u001b[31m✖\u001b[39m \u001b[34mdplyr\u001b[39m::\u001b[32mfilter()\u001b[39m   masks \u001b[34mstats\u001b[39m::filter()\n",
      "\u001b[31m✖\u001b[39m \u001b[34mrecipes\u001b[39m::\u001b[32mfixed()\u001b[39m  masks \u001b[34mstringr\u001b[39m::fixed()\n",
      "\u001b[31m✖\u001b[39m \u001b[34mdplyr\u001b[39m::\u001b[32mlag()\u001b[39m      masks \u001b[34mstats\u001b[39m::lag()\n",
      "\u001b[31m✖\u001b[39m \u001b[34myardstick\u001b[39m::\u001b[32mspec()\u001b[39m masks \u001b[34mreadr\u001b[39m::spec()\n",
      "\u001b[31m✖\u001b[39m \u001b[34mrecipes\u001b[39m::\u001b[32mstep()\u001b[39m   masks \u001b[34mstats\u001b[39m::step()\n",
      "\u001b[34m•\u001b[39m Use suppressPackageStartupMessages() to eliminate package startup messages\n",
      "\n",
      "Updating HTML index of packages in '.Library'\n",
      "\n",
      "Making 'packages.html' ...\n",
      " done\n",
      "\n",
      "\u001b[1mRows: \u001b[22m\u001b[34m258\u001b[39m \u001b[1mColumns: \u001b[22m\u001b[34m6\u001b[39m\n",
      "\u001b[36m──\u001b[39m \u001b[1mColumn specification\u001b[22m \u001b[36m────────────────────────────────────────────────────────\u001b[39m\n",
      "\u001b[1mDelimiter:\u001b[22m \",\"\n",
      "\u001b[31mchr\u001b[39m (1): UNS\n",
      "\u001b[32mdbl\u001b[39m (5): STG, SCG, STR, LPR, PEG\n",
      "\n",
      "\u001b[36mℹ\u001b[39m Use `spec()` to retrieve the full column specification for this data.\n",
      "\u001b[36mℹ\u001b[39m Specify the column types or set `show_col_types = FALSE` to quiet this message.\n"
     ]
    },
    {
     "data": {
      "text/html": [
       "<table class=\"dataframe\">\n",
       "<caption>A tibble: 6 × 6</caption>\n",
       "<thead>\n",
       "\t<tr><th scope=col>STG</th><th scope=col>SCG</th><th scope=col>STR</th><th scope=col>LPR</th><th scope=col>PEG</th><th scope=col>UNS</th></tr>\n",
       "\t<tr><th scope=col>&lt;dbl&gt;</th><th scope=col>&lt;dbl&gt;</th><th scope=col>&lt;dbl&gt;</th><th scope=col>&lt;dbl&gt;</th><th scope=col>&lt;dbl&gt;</th><th scope=col>&lt;chr&gt;</th></tr>\n",
       "</thead>\n",
       "<tbody>\n",
       "\t<tr><td>0.00</td><td>0.00</td><td>0.00</td><td>0.00</td><td>0.00</td><td>very_low</td></tr>\n",
       "\t<tr><td>0.08</td><td>0.08</td><td>0.10</td><td>0.24</td><td>0.90</td><td>High    </td></tr>\n",
       "\t<tr><td>0.06</td><td>0.06</td><td>0.05</td><td>0.25</td><td>0.33</td><td>Low     </td></tr>\n",
       "\t<tr><td>0.10</td><td>0.10</td><td>0.15</td><td>0.65</td><td>0.30</td><td>Middle  </td></tr>\n",
       "\t<tr><td>0.08</td><td>0.08</td><td>0.08</td><td>0.98</td><td>0.24</td><td>Low     </td></tr>\n",
       "\t<tr><td>0.09</td><td>0.15</td><td>0.40</td><td>0.10</td><td>0.66</td><td>Middle  </td></tr>\n",
       "</tbody>\n",
       "</table>\n"
      ],
      "text/latex": [
       "A tibble: 6 × 6\n",
       "\\begin{tabular}{llllll}\n",
       " STG & SCG & STR & LPR & PEG & UNS\\\\\n",
       " <dbl> & <dbl> & <dbl> & <dbl> & <dbl> & <chr>\\\\\n",
       "\\hline\n",
       "\t 0.00 & 0.00 & 0.00 & 0.00 & 0.00 & very\\_low\\\\\n",
       "\t 0.08 & 0.08 & 0.10 & 0.24 & 0.90 & High    \\\\\n",
       "\t 0.06 & 0.06 & 0.05 & 0.25 & 0.33 & Low     \\\\\n",
       "\t 0.10 & 0.10 & 0.15 & 0.65 & 0.30 & Middle  \\\\\n",
       "\t 0.08 & 0.08 & 0.08 & 0.98 & 0.24 & Low     \\\\\n",
       "\t 0.09 & 0.15 & 0.40 & 0.10 & 0.66 & Middle  \\\\\n",
       "\\end{tabular}\n"
      ],
      "text/markdown": [
       "\n",
       "A tibble: 6 × 6\n",
       "\n",
       "| STG &lt;dbl&gt; | SCG &lt;dbl&gt; | STR &lt;dbl&gt; | LPR &lt;dbl&gt; | PEG &lt;dbl&gt; | UNS &lt;chr&gt; |\n",
       "|---|---|---|---|---|---|\n",
       "| 0.00 | 0.00 | 0.00 | 0.00 | 0.00 | very_low |\n",
       "| 0.08 | 0.08 | 0.10 | 0.24 | 0.90 | High     |\n",
       "| 0.06 | 0.06 | 0.05 | 0.25 | 0.33 | Low      |\n",
       "| 0.10 | 0.10 | 0.15 | 0.65 | 0.30 | Middle   |\n",
       "| 0.08 | 0.08 | 0.08 | 0.98 | 0.24 | Low      |\n",
       "| 0.09 | 0.15 | 0.40 | 0.10 | 0.66 | Middle   |\n",
       "\n"
      ],
      "text/plain": [
       "  STG  SCG  STR  LPR  PEG  UNS     \n",
       "1 0.00 0.00 0.00 0.00 0.00 very_low\n",
       "2 0.08 0.08 0.10 0.24 0.90 High    \n",
       "3 0.06 0.06 0.05 0.25 0.33 Low     \n",
       "4 0.10 0.10 0.15 0.65 0.30 Middle  \n",
       "5 0.08 0.08 0.08 0.98 0.24 Low     \n",
       "6 0.09 0.15 0.40 0.10 0.66 Middle  "
      ]
     },
     "metadata": {},
     "output_type": "display_data"
    }
   ],
   "source": [
    "#load all necessarily libraries\n",
    "library(tidyverse)\n",
    "library(repr)\n",
    "library(tidymodels)\n",
    "install.packages(\"RColorBrewer\")\n",
    "library(RColorBrewer)\n",
    "\n",
    "#read data from the web (GitHub raw file)\n",
    "url <- \"https://raw.githubusercontent.com/afellhauer/DSCI_Group_Project/main/data/Data_User_Modeling_Dataset_Hamdi.csv\"\n",
    "knowledge <- read_csv(url)\n",
    "head(knowledge)"
   ]
  },
  {
   "cell_type": "markdown",
   "id": "bd4ef601-87b7-4461-a1cf-4710a87e77b9",
   "metadata": {},
   "source": [
    "### Make data usable and readable"
   ]
  },
  {
   "cell_type": "markdown",
   "id": "44a5ee15-87b6-49e6-96a4-adc52b0d2a96",
   "metadata": {},
   "source": [
    "Looking at the values, the format is tidy. To make the data usable, UNS (user_knowledge) needs to be converted from a character to a factor. To increase readability, we renamed all variables. We [checked for any missing data](https://www.tutorialspoint.com/dealing-with-missing-data-in-r) and [printed the result](https://www.geeksforgeeks.org/printing-output-of-an-r-program/). There are no missing values."
   ]
  },
  {
   "cell_type": "code",
   "execution_count": 2,
   "id": "b0b73c5c-8e04-46b6-8704-63e066fb7e44",
   "metadata": {
    "tags": []
   },
   "outputs": [
    {
     "name": "stdout",
     "output_type": "stream",
     "text": [
      "[1] \"Number of missing values:  0\"\n"
     ]
    }
   ],
   "source": [
    "knowledge_mutate <- knowledge |>\n",
    "    mutate(UNS = as_factor(UNS)) |> #change the class from a chr to a factor\n",
    "    rename(\"study_time_goal\" = STG, #relabel all variables to understand them better\n",
    "           \"repetition\" = SCG,\n",
    "           \"study_time_related\" = STR,\n",
    "           \"performance_related\" = LPR, \n",
    "           \"performance_goal\" = PEG,\n",
    "           \"user_knowledge\" = UNS)\n",
    "missing <- sum(is.na(knowledge_mutate)) # check for missing values\n",
    "print(paste(\"Number of missing values: \", missing))"
   ]
  },
  {
   "cell_type": "code",
   "execution_count": 3,
   "id": "96745ce8-f7d7-44fc-a36c-1210658f4a11",
   "metadata": {
    "tags": []
   },
   "outputs": [
    {
     "data": {
      "text/html": [
       "<table class=\"dataframe\">\n",
       "<caption>A tibble: 6 × 6</caption>\n",
       "<thead>\n",
       "\t<tr><th scope=col>study_time_goal</th><th scope=col>repetition</th><th scope=col>study_time_related</th><th scope=col>performance_related</th><th scope=col>performance_goal</th><th scope=col>user_knowledge</th></tr>\n",
       "\t<tr><th scope=col>&lt;dbl&gt;</th><th scope=col>&lt;dbl&gt;</th><th scope=col>&lt;dbl&gt;</th><th scope=col>&lt;dbl&gt;</th><th scope=col>&lt;dbl&gt;</th><th scope=col>&lt;fct&gt;</th></tr>\n",
       "</thead>\n",
       "<tbody>\n",
       "\t<tr><td>0.00</td><td>0.00</td><td>0.00</td><td>0.00</td><td>0.00</td><td>very_low</td></tr>\n",
       "\t<tr><td>0.08</td><td>0.08</td><td>0.10</td><td>0.24</td><td>0.90</td><td>High    </td></tr>\n",
       "\t<tr><td>0.06</td><td>0.06</td><td>0.05</td><td>0.25</td><td>0.33</td><td>Low     </td></tr>\n",
       "\t<tr><td>0.10</td><td>0.10</td><td>0.15</td><td>0.65</td><td>0.30</td><td>Middle  </td></tr>\n",
       "\t<tr><td>0.08</td><td>0.08</td><td>0.08</td><td>0.98</td><td>0.24</td><td>Low     </td></tr>\n",
       "\t<tr><td>0.09</td><td>0.15</td><td>0.40</td><td>0.10</td><td>0.66</td><td>Middle  </td></tr>\n",
       "</tbody>\n",
       "</table>\n"
      ],
      "text/latex": [
       "A tibble: 6 × 6\n",
       "\\begin{tabular}{llllll}\n",
       " study\\_time\\_goal & repetition & study\\_time\\_related & performance\\_related & performance\\_goal & user\\_knowledge\\\\\n",
       " <dbl> & <dbl> & <dbl> & <dbl> & <dbl> & <fct>\\\\\n",
       "\\hline\n",
       "\t 0.00 & 0.00 & 0.00 & 0.00 & 0.00 & very\\_low\\\\\n",
       "\t 0.08 & 0.08 & 0.10 & 0.24 & 0.90 & High    \\\\\n",
       "\t 0.06 & 0.06 & 0.05 & 0.25 & 0.33 & Low     \\\\\n",
       "\t 0.10 & 0.10 & 0.15 & 0.65 & 0.30 & Middle  \\\\\n",
       "\t 0.08 & 0.08 & 0.08 & 0.98 & 0.24 & Low     \\\\\n",
       "\t 0.09 & 0.15 & 0.40 & 0.10 & 0.66 & Middle  \\\\\n",
       "\\end{tabular}\n"
      ],
      "text/markdown": [
       "\n",
       "A tibble: 6 × 6\n",
       "\n",
       "| study_time_goal &lt;dbl&gt; | repetition &lt;dbl&gt; | study_time_related &lt;dbl&gt; | performance_related &lt;dbl&gt; | performance_goal &lt;dbl&gt; | user_knowledge &lt;fct&gt; |\n",
       "|---|---|---|---|---|---|\n",
       "| 0.00 | 0.00 | 0.00 | 0.00 | 0.00 | very_low |\n",
       "| 0.08 | 0.08 | 0.10 | 0.24 | 0.90 | High     |\n",
       "| 0.06 | 0.06 | 0.05 | 0.25 | 0.33 | Low      |\n",
       "| 0.10 | 0.10 | 0.15 | 0.65 | 0.30 | Middle   |\n",
       "| 0.08 | 0.08 | 0.08 | 0.98 | 0.24 | Low      |\n",
       "| 0.09 | 0.15 | 0.40 | 0.10 | 0.66 | Middle   |\n",
       "\n"
      ],
      "text/plain": [
       "  study_time_goal repetition study_time_related performance_related\n",
       "1 0.00            0.00       0.00               0.00               \n",
       "2 0.08            0.08       0.10               0.24               \n",
       "3 0.06            0.06       0.05               0.25               \n",
       "4 0.10            0.10       0.15               0.65               \n",
       "5 0.08            0.08       0.08               0.98               \n",
       "6 0.09            0.15       0.40               0.10               \n",
       "  performance_goal user_knowledge\n",
       "1 0.00             very_low      \n",
       "2 0.90             High          \n",
       "3 0.33             Low           \n",
       "4 0.30             Middle        \n",
       "5 0.24             Low           \n",
       "6 0.66             Middle        "
      ]
     },
     "metadata": {},
     "output_type": "display_data"
    }
   ],
   "source": [
    "head(knowledge_mutate) # view data"
   ]
  },
  {
   "cell_type": "markdown",
   "id": "0f36811e-54ca-4a87-a806-214231d8b10c",
   "metadata": {},
   "source": [
    "### Split the data into training and testing sets"
   ]
  },
  {
   "cell_type": "markdown",
   "id": "2a42632b-bfc6-4269-9764-509a0da3d332",
   "metadata": {},
   "source": [
    "To ensure reproducibility, we set the seed. We used a proportion of 0.75 for the training to testing ratio. We also stratified the data using user_knowledge, which is the class we are trying to predict. "
   ]
  },
  {
   "cell_type": "code",
   "execution_count": 4,
   "id": "fe20eb56-e7be-40b3-8afb-dac67acee27b",
   "metadata": {
    "tags": []
   },
   "outputs": [
    {
     "name": "stdout",
     "output_type": "stream",
     "text": [
      "Rows: 192\n",
      "Columns: 6\n",
      "$ study_time_goal     \u001b[3m\u001b[90m<dbl>\u001b[39m\u001b[23m 0.080, 0.180, 0.100, 0.090, 0.080, 0.200, 0.130, 0…\n",
      "$ repetition          \u001b[3m\u001b[90m<dbl>\u001b[39m\u001b[23m 0.080, 0.180, 0.100, 0.300, 0.325, 0.450, 0.390, 0…\n",
      "$ study_time_related  \u001b[3m\u001b[90m<dbl>\u001b[39m\u001b[23m 0.100, 0.550, 0.700, 0.680, 0.620, 0.280, 0.850, 0…\n",
      "$ performance_related \u001b[3m\u001b[90m<dbl>\u001b[39m\u001b[23m 0.24, 0.30, 0.15, 0.18, 0.94, 0.31, 0.38, 0.71, 0.…\n",
      "$ performance_goal    \u001b[3m\u001b[90m<dbl>\u001b[39m\u001b[23m 0.90, 0.81, 0.90, 0.85, 0.56, 0.78, 0.77, 0.90, 0.…\n",
      "$ user_knowledge      \u001b[3m\u001b[90m<fct>\u001b[39m\u001b[23m High, High, High, High, High, High, High, High, Hi…\n"
     ]
    }
   ],
   "source": [
    "set.seed(200) #set seed to be reproducible\n",
    "#create the initial split of the data\n",
    "#stratify based on user_knowledge\n",
    "knowledge_split <- initial_split(knowledge_mutate, prop = 0.75, strata = user_knowledge)\n",
    "\n",
    "#collected the testing and training portions\n",
    "knowledge_training <- training(knowledge_split)\n",
    "knowledge_testing <- testing(knowledge_split)\n",
    "\n",
    "glimpse(knowledge_training) #see that the number of rows is less than the dataset"
   ]
  },
  {
   "cell_type": "markdown",
   "id": "585204a3-5e24-4506-9cc6-fbe786a89cb5",
   "metadata": {},
   "source": [
    "### Summarizing the data"
   ]
  },
  {
   "cell_type": "markdown",
   "id": "15d4b060-d961-41c1-b993-d0bbe436ec2a",
   "metadata": {},
   "source": [
    "We examined how balanced or unbalanced the data set is. We created a table that summarized the number of counts for each group of the user_knowledge variable. \n",
    "\n",
    "The very_low (beginner) knowledge level is not as represented in this data set."
   ]
  },
  {
   "cell_type": "code",
   "execution_count": 5,
   "id": "0a9b351c-ee1c-4b5e-9d73-aaf2e2b11c77",
   "metadata": {
    "tags": []
   },
   "outputs": [
    {
     "data": {
      "text/html": [
       "<table class=\"dataframe\">\n",
       "<caption>A tibble: 4 × 2</caption>\n",
       "<thead>\n",
       "\t<tr><th scope=col>user_knowledge</th><th scope=col>count</th></tr>\n",
       "\t<tr><th scope=col>&lt;fct&gt;</th><th scope=col>&lt;int&gt;</th></tr>\n",
       "</thead>\n",
       "<tbody>\n",
       "\t<tr><td>very_low</td><td>20</td></tr>\n",
       "\t<tr><td>High    </td><td>47</td></tr>\n",
       "\t<tr><td>Low     </td><td>59</td></tr>\n",
       "\t<tr><td>Middle  </td><td>66</td></tr>\n",
       "</tbody>\n",
       "</table>\n"
      ],
      "text/latex": [
       "A tibble: 4 × 2\n",
       "\\begin{tabular}{ll}\n",
       " user\\_knowledge & count\\\\\n",
       " <fct> & <int>\\\\\n",
       "\\hline\n",
       "\t very\\_low & 20\\\\\n",
       "\t High     & 47\\\\\n",
       "\t Low      & 59\\\\\n",
       "\t Middle   & 66\\\\\n",
       "\\end{tabular}\n"
      ],
      "text/markdown": [
       "\n",
       "A tibble: 4 × 2\n",
       "\n",
       "| user_knowledge &lt;fct&gt; | count &lt;int&gt; |\n",
       "|---|---|\n",
       "| very_low | 20 |\n",
       "| High     | 47 |\n",
       "| Low      | 59 |\n",
       "| Middle   | 66 |\n",
       "\n"
      ],
      "text/plain": [
       "  user_knowledge count\n",
       "1 very_low       20   \n",
       "2 High           47   \n",
       "3 Low            59   \n",
       "4 Middle         66   "
      ]
     },
     "metadata": {},
     "output_type": "display_data"
    }
   ],
   "source": [
    "summary_counts <- knowledge_training |>\n",
    "    group_by(user_knowledge) |> #group based on the class\n",
    "    summarize(count = n()) #gets the count (number of observations of each)\n",
    "summary_counts"
   ]
  },
  {
   "cell_type": "markdown",
   "id": "5d4ae292-4222-4153-ad33-ec94f01dbd15",
   "metadata": {},
   "source": [
    "**Table 1**: Proportion of observations classified as each user knowledge level (very_low, low, high, middle)"
   ]
  },
  {
   "cell_type": "markdown",
   "id": "e63fd221-ba26-4aed-90ba-8c4c4c7eae91",
   "metadata": {},
   "source": [
    "We then summarized the means of our predictors for each class."
   ]
  },
  {
   "cell_type": "code",
   "execution_count": 6,
   "id": "816d2c47-6626-4fcc-844b-83a1e7ffc44e",
   "metadata": {
    "tags": []
   },
   "outputs": [
    {
     "data": {
      "text/html": [
       "<table class=\"dataframe\">\n",
       "<caption>A tibble: 4 × 4</caption>\n",
       "<thead>\n",
       "\t<tr><th scope=col>user_knowledge</th><th scope=col>mean_study_time</th><th scope=col>mean_repetition</th><th scope=col>mean_exam_score</th></tr>\n",
       "\t<tr><th scope=col>&lt;fct&gt;</th><th scope=col>&lt;dbl&gt;</th><th scope=col>&lt;dbl&gt;</th><th scope=col>&lt;dbl&gt;</th></tr>\n",
       "</thead>\n",
       "<tbody>\n",
       "\t<tr><td>very_low</td><td>0.3172000</td><td>0.1787500</td><td>0.0985000</td></tr>\n",
       "\t<tr><td>High    </td><td>0.4220000</td><td>0.4170426</td><td>0.7646809</td></tr>\n",
       "\t<tr><td>Low     </td><td>0.3249831</td><td>0.3482542</td><td>0.2386949</td></tr>\n",
       "\t<tr><td>Middle  </td><td>0.4147727</td><td>0.3676061</td><td>0.5430303</td></tr>\n",
       "</tbody>\n",
       "</table>\n"
      ],
      "text/latex": [
       "A tibble: 4 × 4\n",
       "\\begin{tabular}{llll}\n",
       " user\\_knowledge & mean\\_study\\_time & mean\\_repetition & mean\\_exam\\_score\\\\\n",
       " <fct> & <dbl> & <dbl> & <dbl>\\\\\n",
       "\\hline\n",
       "\t very\\_low & 0.3172000 & 0.1787500 & 0.0985000\\\\\n",
       "\t High     & 0.4220000 & 0.4170426 & 0.7646809\\\\\n",
       "\t Low      & 0.3249831 & 0.3482542 & 0.2386949\\\\\n",
       "\t Middle   & 0.4147727 & 0.3676061 & 0.5430303\\\\\n",
       "\\end{tabular}\n"
      ],
      "text/markdown": [
       "\n",
       "A tibble: 4 × 4\n",
       "\n",
       "| user_knowledge &lt;fct&gt; | mean_study_time &lt;dbl&gt; | mean_repetition &lt;dbl&gt; | mean_exam_score &lt;dbl&gt; |\n",
       "|---|---|---|---|\n",
       "| very_low | 0.3172000 | 0.1787500 | 0.0985000 |\n",
       "| High     | 0.4220000 | 0.4170426 | 0.7646809 |\n",
       "| Low      | 0.3249831 | 0.3482542 | 0.2386949 |\n",
       "| Middle   | 0.4147727 | 0.3676061 | 0.5430303 |\n",
       "\n"
      ],
      "text/plain": [
       "  user_knowledge mean_study_time mean_repetition mean_exam_score\n",
       "1 very_low       0.3172000       0.1787500       0.0985000      \n",
       "2 High           0.4220000       0.4170426       0.7646809      \n",
       "3 Low            0.3249831       0.3482542       0.2386949      \n",
       "4 Middle         0.4147727       0.3676061       0.5430303      "
      ]
     },
     "metadata": {},
     "output_type": "display_data"
    }
   ],
   "source": [
    "summary <- knowledge_training |>\n",
    "    select(user_knowledge, study_time_goal, repetition, performance_goal) |> \n",
    "    #select only the class and the predictors\n",
    "    group_by(user_knowledge) |>\n",
    "    summarize(\"mean_study_time\" = mean(study_time_goal), \"mean_repetition\" = mean(repetition),\n",
    "              \"mean_exam_score\" = mean(performance_goal)) \n",
    "    #get the mean for each predictor for each group\n",
    "summary"
   ]
  },
  {
   "cell_type": "markdown",
   "id": "48e19671-ed57-4917-8668-ea21e2b214e7",
   "metadata": {
    "tags": []
   },
   "source": [
    "**Table 2**: Mean study time and mean exam score for each user knowledge level (very_low, low, middle, high)"
   ]
  },
  {
   "cell_type": "markdown",
   "id": "a12f0adc-2d62-4b5c-971f-833ef0421d2e",
   "metadata": {},
   "source": [
    "### Visualize the data"
   ]
  },
  {
   "cell_type": "markdown",
   "id": "3c3dba90-2c2a-40f3-bdba-6ae39befe108",
   "metadata": {},
   "source": [
    "We visualized the distribution of the different groups according to their counts. Again, this highlights that the data is not completely balanced.\n",
    "\n",
    "*To left align the caption, we used [this code](https://stackoverflow.com/questions/64701500/left-align-ggplot-caption)*."
   ]
  },
  {
   "cell_type": "code",
   "execution_count": 7,
   "id": "662cc24b-4556-4297-b076-34aa8b0663dd",
   "metadata": {
    "tags": []
   },
   "outputs": [
    {
     "ename": "ERROR",
     "evalue": "Error in eval(expr, envir, enclos): object 'dc_machines_plot_distribution' not found\n",
     "output_type": "error",
     "traceback": [
      "Error in eval(expr, envir, enclos): object 'dc_machines_plot_distribution' not found\nTraceback:\n"
     ]
    }
   ],
   "source": [
    "knowledge_training_plot_distribution <- knowledge_training |>\n",
    "    ggplot(aes(x = fct_recode(user_knowledge, \"Very Low\" = \"very_low\"), fill = user_knowledge)) + #change the label of very_low to Very Low\n",
    "    geom_bar() + #use the default stat = \"count\"\n",
    "    xlab(\"Category of user knowledge\") +\n",
    "    ylab(\"Count\")\n",
    "\n",
    "#make the plot look nicer\n",
    "knowledge_training_plot_distribution <- knowledge_training_plot_distribution +\n",
    "    theme(text = element_text(size = 15), legend.position = \"none\", #remove the legend\n",
    "         plot.caption = element_text(hjust = 0)) + #set the text to left align\n",
    "    ggtitle(\"Distribution of User Knowledge Groups\") +\n",
    "    labs(caption = \"\n",
    "Figure 1: Number of observations for each user knowledge group.Very low represents \n",
    "beginners, low represents intermediate, middle represents expert, and high \n",
    "represents advanced user knowledge\") +\n",
    "    scale_color_brewer(palette = \"Set2\") #set the color palette\n",
    "    \n",
    "dc_machines_plot_distribution"
   ]
  },
  {
   "cell_type": "markdown",
   "id": "a4e48e36-9e10-410d-828f-8cb5436c1d88",
   "metadata": {},
   "source": [
    "Then, we plotted the data according to study time and exam performance of each of the user knowledge groups. We start to see some distinct groups form.\n",
    "\n",
    "*To left align the caption, we used [this code](https://stackoverflow.com/questions/64701500/left-align-ggplot-caption)*."
   ]
  },
  {
   "cell_type": "code",
   "execution_count": null,
   "id": "f60f0133-2129-40c5-b11f-067d5fed15bd",
   "metadata": {
    "tags": []
   },
   "outputs": [],
   "source": [
    "knowledge_training_plot_study_vs_goal <- knowledge_training |>\n",
    "    ggplot(aes(x = study_time_goal, y = performance_goal, \n",
    "               color = fct_recode(user_knowledge, \"Very Low\" = \"very_low\"))) + #change the label of very_low to Very Low\n",
    "    geom_point(alpha = 0.5) +\n",
    "    xlab(\"Degree of study time on learning objects (goal)\") +\n",
    "    ylab(\"Performance in exams on learning objects (goal)\") +\n",
    "    labs(color = \"User Knowledge\", \n",
    "        caption = \"\n",
    "Figure 2: The perfomance and study time of users according to their learning group.\n",
    "Very low represents beginners, low represents intermediate, middle represents expert, \n",
    "and high represents advanced user knowledge\") +\n",
    "    theme(text = element_text(size = 12), plot.caption = element_text(hjust = 0)) +\n",
    "    ggtitle(\"Performance vs Study Time of User Knowledge Groups\")\n",
    "dc_machines_plot_study_vs_goal"
   ]
  },
  {
   "cell_type": "markdown",
   "id": "1f6399fe-826e-4211-afe6-e2292fbf7099",
   "metadata": {},
   "source": [
    "## Methods"
   ]
  },
  {
   "cell_type": "markdown",
   "id": "a5c6cfa5-6acd-4660-814a-a9e11cda2322",
   "metadata": {},
   "source": [
    "### Classification System"
   ]
  },
  {
   "cell_type": "markdown",
   "id": "3470d872-53d6-4fbb-b9e9-f47bdf41380c",
   "metadata": {
    "tags": []
   },
   "source": [
    "We will be using the k-nearest neighbors (KNN) algorithm in our project to determine if the user knowledge level of an individual can be predicted using their study habits and exam performance. "
   ]
  },
  {
   "cell_type": "markdown",
   "id": "82a35e48-231a-4c46-9a8e-4b1540ae38ab",
   "metadata": {},
   "source": [
    "We will conduct our data analysis using **KNN classification** since we are predicting a categorical variable. \n",
    "\n",
    "We will be using the following variables: \n",
    "- user_knowledge (class)\n",
    "- study_time_goal (predictor)\n",
    "- repetition (predictor)\n",
    "- performance_goal (predictor)"
   ]
  },
  {
   "cell_type": "markdown",
   "id": "fd996b10-70a0-450c-8801-afe222c9c909",
   "metadata": {},
   "source": [
    "### Steps\n",
    "1.  Build the recipe using user_knowledge as the classifier, study_time_goal, repetition and performance_goal as the predictors, and the training set as the data.  \n",
    "2.  Balance the data by upsampling the training set\n",
    "3.  Choose the appropriate K-value for the training set using 5-fold cross-validation and compare accuracy for each selection of K (tune the model).\n",
    "4.  Create the KNN model using the selected K value.\n",
    "5.  Train the classifier using the training set.\n",
    "6.  Predict the labels for the unseen testing set.\n",
    "7.  Evaluate accuracy and create a confusion matrix to assess precision and recall.\n",
    "8.  Analyze performance using precision, recall, and accuracy.\n",
    "9.  Discuss outcomes and provide suggestions for improving the model."
   ]
  },
  {
   "cell_type": "markdown",
   "id": "c91a7815-bc5a-4549-96c0-6cbaf1009234",
   "metadata": {},
   "source": [
    "### Visualization\n"
   ]
  },
  {
   "cell_type": "markdown",
   "id": "0e41afc2-19d6-4a80-b42f-e75df8b8ae53",
   "metadata": {
    "tags": []
   },
   "source": [
    "We will visualize our data by:\n",
    "1. Plotting neighbors vs. accuracy of the cross-validation\n",
    "2. Displaying the confusion matrix"
   ]
  },
  {
   "cell_type": "markdown",
   "id": "86797801-35cb-4fd9-bc74-0b967690d1dd",
   "metadata": {},
   "source": [
    "## Expected Outcomes and Significance"
   ]
  },
  {
   "cell_type": "markdown",
   "id": "0955c99e-975a-4ac2-85d9-f3e223814a73",
   "metadata": {},
   "source": [
    "We expect to see that study time, repetition, and exam performance are good predictors of user knowledge.\n",
    "\n",
    "We believe that these findings could contribute to predicting user knowledge for web-based learning applications ([Kahraman et al. 2013](https://doi.org/10.1016/j.knosys.2012.08.009)).\n",
    "\n",
    "Future questions that this could lead to include how we can adjust the tasks for students learning a topic to create a dynamic and adaptive learning experience. For example, the creation of an intelligent artificial tutor that could tailor content based on user knowledge."
   ]
  },
  {
   "cell_type": "markdown",
   "id": "d965f09b-624c-435a-b7e1-c7429c5427e6",
   "metadata": {
    "tags": []
   },
   "source": [
    "# References"
   ]
  },
  {
   "cell_type": "markdown",
   "id": "c1b7155d-795f-4d40-9664-e75de19bf4bf",
   "metadata": {},
   "source": [
    "[1](https://doi.org/10.1109/access.2018.2847334) Al-Tarabily, M. M., Abdel-Kader, R. F., Azeem, G. A., & Marie, M. I. (2018). Optimizing Dynamic Multi-Agent Performance in E-Learning Environment, 35631–35645. https://doi.org/10.1109/access.2018.2847334 "
   ]
  },
  {
   "cell_type": "markdown",
   "id": "1a8528a5-3e17-435a-9a99-fd738da5e4bf",
   "metadata": {
    "tags": []
   },
   "source": [
    "[2](https://doi.org/10.1016/B978-0-444-70536-5.50051-8) Chignell, M. H., Hancock, P. A., & Helander, M. (1988). Chapter 46 - Intelligent Interface Design. In Handbook of Human-Computer Interaction (pp. 969–995). North Holland. https://doi.org/10.1016/B978-0-444-70536-5.50051-8"
   ]
  },
  {
   "cell_type": "markdown",
   "id": "8d4ded7e-e66d-405e-9385-180b03e2238b",
   "metadata": {},
   "source": [
    "[3](https://doi.org/10.1016/j.knosys.2012.08.009) Kahraman, H. T., Sagiroglu, S., &amp; Colak, I. (2013). The development of intuitive knowledge classifier and the modeling of Domain Dependent Data. *Knowledge-Based Systems, 37*, 283–295. https://doi.org/10.1016/j.knosys.2012.08.009 "
   ]
  },
  {
   "cell_type": "markdown",
   "id": "e6a81e96-472d-4c98-b975-03ddea9ea590",
   "metadata": {},
   "source": [
    "[4](https://doi.org/10.24432/C5231X) Kahraman, H. T., Colak, I., & Sagiroglu, S. (2013). User Knowledge Modeling. *UCI Machine Learning Repository*. https://doi.org/10.24432/C5231X."
   ]
  },
  {
   "cell_type": "markdown",
   "id": "c82339b9-56bf-4ce5-8cf5-ac05bec9c9f7",
   "metadata": {},
   "source": [
    "[5](https://datasciencebook.ca/) Timbers, T., Campbell, T., & Lee, M. (2023) Data Science: A First Introduction. CRC Press, Taylor & Francis Group. https://datasciencebook.ca/"
   ]
  },
  {
   "cell_type": "code",
   "execution_count": null,
   "id": "10273c5b-fbcf-400b-85da-52634321d935",
   "metadata": {},
   "outputs": [],
   "source": []
  }
 ],
 "metadata": {
  "kernelspec": {
   "display_name": "R",
   "language": "R",
   "name": "ir"
  },
  "language_info": {
   "codemirror_mode": "r",
   "file_extension": ".r",
   "mimetype": "text/x-r-source",
   "name": "R",
   "pygments_lexer": "r",
   "version": "4.2.2"
  }
 },
 "nbformat": 4,
 "nbformat_minor": 5
}
