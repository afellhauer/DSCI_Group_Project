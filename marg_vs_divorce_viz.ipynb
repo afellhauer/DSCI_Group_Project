{
 "cells": [
  {
   "cell_type": "markdown",
   "id": "ba771cae-e6af-4d4c-ba4a-ba124bbf235d",
   "metadata": {},
   "source": [
    "Load the libraries:"
   ]
  },
  {
   "cell_type": "code",
   "execution_count": 2,
   "id": "ddd2e30c-6d5b-4d7f-930e-e44c5cadd07e",
   "metadata": {},
   "outputs": [
    {
     "ename": "ERROR",
     "evalue": "Error in library(cowplot): there is no package called ‘cowplot’\n",
     "output_type": "error",
     "traceback": [
      "Error in library(cowplot): there is no package called ‘cowplot’\nTraceback:\n",
      "1. library(cowplot)"
     ]
    }
   ],
   "source": [
    "# run this cell\n",
    "library(tidyverse)\n",
    "library(cowplot)\n",
    "library(scales)"
   ]
  },
  {
   "cell_type": "code",
   "execution_count": 3,
   "id": "a0a4ce0e-8bb8-4ce8-91ce-913ecdef3d7c",
   "metadata": {},
   "outputs": [],
   "source": [
    "# Data sourced from the Spurious Correlations website (http://www.tylervigen.com/spurious-correlations)\n",
    "should_have_bought_butter <- tibble(margarine_consumption = c(8.2, 7, 6.5, 5.3, 5.2,\n",
    "                                                             4, 4.6, 4.5, 4.2, 3.7),\n",
    "                                    maine_divorce_rate = c(5, 4.7, 4.6, 4.4, 4.3, 4.1, \n",
    "                                                           4.2, 4.2, 4.2, 4.1),\n",
    "                                    year = c(2000, 2001, 2002, 2003, 2004,\n",
    "                                           2005, 2006, 2007, 2008, 2009))\n",
    "                                    "
   ]
  },
  {
   "cell_type": "code",
   "execution_count": 4,
   "id": "e394e9c2-7915-41b9-bf69-a2a7ac009b37",
   "metadata": {},
   "outputs": [
    {
     "ename": "ERROR",
     "evalue": "Error in number_format(accuracy = 0.01): could not find function \"number_format\"\n",
     "output_type": "error",
     "traceback": [
      "Error in number_format(accuracy = 0.01): could not find function \"number_format\"\nTraceback:\n",
      "1. scale_y_continuous(labels = number_format(accuracy = 0.01))",
      "2. continuous_scale(ggplot_global$y_aes, \"position_c\", identity, \n .     name = name, breaks = breaks, n.breaks = n.breaks, minor_breaks = minor_breaks, \n .     labels = labels, limits = limits, expand = expand, oob = oob, \n .     na.value = na.value, trans = trans, guide = guide, position = position, \n .     super = ScaleContinuousPosition)",
      "3. check_breaks_labels(breaks, labels)"
     ]
    }
   ],
   "source": [
    "marg_vs_time <- should_have_bought_butter |> \n",
    "    ggplot(aes(x = year, y = margarine_consumption)) +\n",
    "        geom_line(colour = \"Blue\") + \n",
    "        labs(x = \"\", y = \"Margarine consumption \\n(lbs per capita)\", \n",
    "             title = \"Divorce rate in Maine correlates with margarine consumption\") +\n",
    "        theme_bw() +\n",
    "        theme(axis.ticks.x = element_blank(),\n",
    "        axis.text.x = element_blank()) +\n",
    "        theme(text = element_text(size = 20)) +\n",
    "        scale_y_continuous(labels = number_format(accuracy = 0.01))"
   ]
  },
  {
   "cell_type": "code",
   "execution_count": 5,
   "id": "a9fcd7f6-5130-4a8e-83e1-612a2af4b9b4",
   "metadata": {},
   "outputs": [],
   "source": [
    "divorce_rate_vs_time <- should_have_bought_butter |> \n",
    "    ggplot(aes(x = year, y = maine_divorce_rate)) +\n",
    "        geom_line(colour = \"Red\") + \n",
    "        labs(x = \"Year\", y = \"Divorce rate in Maine \\n(per 1000)\") +\n",
    "        scale_x_continuous(breaks = 0:2100) +\n",
    "        theme_bw() +\n",
    "        theme(text = element_text(size = 20)) "
   ]
  },
  {
   "cell_type": "code",
   "execution_count": 6,
   "id": "6fef4d1b-ac91-4f5a-8077-d80da7131c7d",
   "metadata": {
    "tags": []
   },
   "outputs": [
    {
     "ename": "ERROR",
     "evalue": "Error in plot_grid(marg_vs_time, divorce_rate_vs_time, ncol = 1): could not find function \"plot_grid\"\n",
     "output_type": "error",
     "traceback": [
      "Error in plot_grid(marg_vs_time, divorce_rate_vs_time, ncol = 1): could not find function \"plot_grid\"\nTraceback:\n"
     ]
    }
   ],
   "source": [
    "\n",
    "options(repr.plot.width = 11, repr.plot.height = 8)\n",
    "plot_grid(marg_vs_time, divorce_rate_vs_time, ncol = 1)"
   ]
  },
  {
   "cell_type": "code",
   "execution_count": null,
   "id": "0f474ef0-7769-4629-a542-fe35a5d7a1a8",
   "metadata": {},
   "outputs": [],
   "source": []
  }
 ],
 "metadata": {
  "kernelspec": {
   "display_name": "R",
   "language": "R",
   "name": "ir"
  },
  "language_info": {
   "codemirror_mode": "r",
   "file_extension": ".r",
   "mimetype": "text/x-r-source",
   "name": "R",
   "pygments_lexer": "r",
   "version": "4.2.2"
  }
 },
 "nbformat": 4,
 "nbformat_minor": 5
}
