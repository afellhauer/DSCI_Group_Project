{
 "cells": [
  {
   "cell_type": "markdown",
   "id": "83b24542-1b30-4820-a489-f2b81f41db88",
   "metadata": {
    "tags": []
   },
   "source": [
    "# Project Proposal: Predicting User Knowledge from Study Habits and Exam Performance\n"
   ]
  },
  {
   "cell_type": "markdown",
   "id": "663ff831-4373-4bdf-a8a0-7b8ae36aa4cb",
   "metadata": {
    "tags": []
   },
   "source": [
    "## Introduction: Data set and background information"
   ]
  },
  {
   "cell_type": "markdown",
   "id": "30a735b4-84aa-4916-91a2-5b38cd4595cc",
   "metadata": {},
   "source": [
    "### About the data set"
   ]
  },
  {
   "cell_type": "markdown",
   "id": "e6fcb30f-7ffe-4782-bb50-e4a38eda42b6",
   "metadata": {
    "tags": []
   },
   "source": [
    "**Our data set: User Knowledge Modeling (https://doi.org/10.24432/C5231X)** [2]\n",
    "\n",
    "We have chosen to explore the user User Knowledge Modeling data set, which is a data set that classifies student's user's knowledge of a topic (Electrical DC machines) according to the authors (Kahraman, Colak, & Sagiroglu, 2013).\n",
    "\n",
    "A) Goal topics (learning objects):\n",
    "1. The degree of time spent studying the material [STG]\n",
    "2. The degree of repetition of the material [SCG]\n",
    "3. The performance in exams [PEG]\n",
    "\n",
    "B) Prerequisite topics\n",
    "1. The degree of study time corresponding to the prerequisite objects [STR]\n",
    "2. The knowledge level of the prerequisite objects [LPR]\n",
    "\n",
    "The goal is to predict user knowledge [UNS].\n",
    "\n",
    "UNS has four levels: very low, low, middle, high. In order, this corresponds to the user's knowledge beginner, intermediate, expert, advanced (Kahraman, Colak, & Sagiroglu, 2013)."
   ]
  },
  {
   "cell_type": "markdown",
   "id": "b4836662-bbd7-4151-b4ff-040c6768ab60",
   "metadata": {},
   "source": [
    "### Background Information"
   ]
  },
  {
   "cell_type": "markdown",
   "id": "919bbb4b-6fd4-4240-8cc3-bf1526ed1997",
   "metadata": {},
   "source": [
    "#### User Knowledge"
   ]
  },
  {
   "cell_type": "markdown",
   "id": "d3bead10-9fbb-417d-a7e5-a996abc95b86",
   "metadata": {},
   "source": [
    "User knowledge can be used to evaluate and dynamically shape the learning experience of an individual, especially when it applies to an online learning environment (Kahraman, Colak, & Sagiroglu, 2013). The data set we are using examines different features of a user to evaluate their learning level."
   ]
  },
  {
   "cell_type": "markdown",
   "id": "75629b46-e8e6-45e0-807e-8be1a9cd839d",
   "metadata": {},
   "source": [
    "### Our Question"
   ]
  },
  {
   "cell_type": "markdown",
   "id": "3fc7d736-fe54-4b04-bb2c-8c1a47d3ad64",
   "metadata": {},
   "source": [
    "The question we are trying to answer is:\n",
    "\n",
    "**Can we predict the knowledge level of a user given the time they spent studying and their performance on the exam?**"
   ]
  },
  {
   "cell_type": "markdown",
   "id": "8cfb2c02-763e-4eee-97e0-1085c158f5f7",
   "metadata": {},
   "source": [
    "## Preliminary exploratory data analysis"
   ]
  },
  {
   "cell_type": "markdown",
   "id": "5b8cbb23-d3e9-4d00-bddb-4dbc01c2f55e",
   "metadata": {},
   "source": [
    "### Loading necessary libraries and reading in the data"
   ]
  },
  {
   "cell_type": "code",
   "execution_count": null,
   "id": "fa051463-32e8-45c5-8617-fb81ff48d763",
   "metadata": {
    "tags": []
   },
   "outputs": [],
   "source": [
    "library(tidyverse)\n",
    "library(repr)\n",
    "library(tidymodels)\n",
    "install.packages(\"kknn\")\n",
    "library(kknn)\n",
    "install.packages(\"RColorBrewer\")\n",
    "library(RColorBrewer)\n",
    "\n",
    "dc_machines <- read_csv(\"https://raw.githubusercontent.com/afellhauer/DSCI_Group_Project/main/data/Data_User_Modeling_Dataset_Hamdi.csv\")"
   ]
  },
  {
   "cell_type": "markdown",
   "id": "bd4ef601-87b7-4461-a1cf-4710a87e77b9",
   "metadata": {},
   "source": [
    "### Make data more readbable"
   ]
  },
  {
   "cell_type": "code",
   "execution_count": null,
   "id": "b0b73c5c-8e04-46b6-8704-63e066fb7e44",
   "metadata": {
    "tags": []
   },
   "outputs": [],
   "source": [
    "dc_machines_mutate <- dc_machines |>\n",
    "    mutate(UNS = as_factor(UNS)) |>\n",
    "    rename(\"study_time_goal\" = STG, \n",
    "           \"repitition\" = SCG,\n",
    "           \"study_time_related\" = STR,\n",
    "           \"performance_related\" = LPR, \n",
    "           \"performance_goal\" = PEG,\n",
    "           \"user_knowledge\" = UNS)\n",
    "glimpse(dc_machines_mutate)"
   ]
  },
  {
   "cell_type": "markdown",
   "id": "05de14ab-83f0-40a8-9f74-a94b66988e6e",
   "metadata": {},
   "source": [
    "### Set seed in order to make data reproducible"
   ]
  },
  {
   "cell_type": "code",
   "execution_count": null,
   "id": "374f641e-639b-46fa-a8a2-9539a79c59eb",
   "metadata": {
    "tags": []
   },
   "outputs": [],
   "source": [
    "set.seed(200)"
   ]
  },
  {
   "cell_type": "markdown",
   "id": "0f36811e-54ca-4a87-a806-214231d8b10c",
   "metadata": {},
   "source": [
    "### Split the data into training and testing sets"
   ]
  },
  {
   "cell_type": "markdown",
   "id": "2a42632b-bfc6-4269-9764-509a0da3d332",
   "metadata": {},
   "source": [
    "We decided to use a proportion of 0.75 for the training to testing ratio. We also stratified the data using user_knowledge, which is the class we are trying to predict. "
   ]
  },
  {
   "cell_type": "code",
   "execution_count": null,
   "id": "fe20eb56-e7be-40b3-8afb-dac67acee27b",
   "metadata": {
    "tags": []
   },
   "outputs": [],
   "source": [
    "dc_machines_split <- initial_split(dc_machines_mutate, prop = 0.75, strata = user_knowledge)\n",
    "dc_machines_training <- training(dc_machines_split)\n",
    "dc_machines_testing <- testing(dc_machines_split)"
   ]
  },
  {
   "cell_type": "markdown",
   "id": "585204a3-5e24-4506-9cc6-fbe786a89cb5",
   "metadata": {},
   "source": [
    "### Summarizing the data"
   ]
  },
  {
   "cell_type": "markdown",
   "id": "15d4b060-d961-41c1-b993-d0bbe436ec2a",
   "metadata": {},
   "source": [
    "We first wanted to see how balanced-unbalanced the data set is. We created a table that summarized the number of counts for each group of the user_knowledge variable. \n",
    "\n",
    "We can see that the very_low (beginner) knowledge level is not as represented in this dataset."
   ]
  },
  {
   "cell_type": "code",
   "execution_count": null,
   "id": "0a9b351c-ee1c-4b5e-9d73-aaf2e2b11c77",
   "metadata": {
    "tags": []
   },
   "outputs": [],
   "source": [
    "summary_counts <- dc_machines_training |>\n",
    "    group_by(user_knowledge) |>\n",
    "    summarize(count = n())\n",
    "summary_counts"
   ]
  },
  {
   "cell_type": "markdown",
   "id": "e63fd221-ba26-4aed-90ba-8c4c4c7eae91",
   "metadata": {},
   "source": [
    "We then wanted to look at the means of our predictors for each class."
   ]
  },
  {
   "cell_type": "code",
   "execution_count": null,
   "id": "816d2c47-6626-4fcc-844b-83a1e7ffc44e",
   "metadata": {
    "tags": []
   },
   "outputs": [],
   "source": [
    "summary <- dc_machines_training |>\n",
    "    select(user_knowledge, study_time_goal, performance_goal) |>\n",
    "    group_by(user_knowledge) |>\n",
    "    summarize(\"mean_study_time\" = mean(study_time_goal), \"mean_exam_score\" = mean(performance_goal))\n",
    "summary"
   ]
  },
  {
   "cell_type": "markdown",
   "id": "a12f0adc-2d62-4b5c-971f-833ef0421d2e",
   "metadata": {},
   "source": [
    "### Visualize the data"
   ]
  },
  {
   "cell_type": "markdown",
   "id": "3c3dba90-2c2a-40f3-bdba-6ae39befe108",
   "metadata": {},
   "source": [
    "We first wanted to visualize the distribution of the different groups. Again, this highlights that the data is not completely balanced."
   ]
  },
  {
   "cell_type": "code",
   "execution_count": null,
   "id": "662cc24b-4556-4297-b076-34aa8b0663dd",
   "metadata": {
    "tags": []
   },
   "outputs": [],
   "source": [
    "dc_machines_plot_distribution <- dc_machines_training |>\n",
    "    ggplot(aes(x = fct_recode(user_knowledge, \"Very Low\" = \"very_low\"), fill = user_knowledge)) +\n",
    "    geom_bar() +\n",
    "    xlab(\"Category of user knowledge\") +\n",
    "    ylab(\"Count\") +\n",
    "    theme(text = element_text(size = 15), legend.position = \"none\") +\n",
    "    ggtitle(\"Distribution of user knowledge groups\") +\n",
    "    scale_color_brewer(palette = \"Set2\")\n",
    "    \n",
    "dc_machines_plot_distribution"
   ]
  },
  {
   "cell_type": "markdown",
   "id": "a4e48e36-9e10-410d-828f-8cb5436c1d88",
   "metadata": {},
   "source": [
    "Then, we plotted the data according to study time and exam performance of each of the user knowledge groups. We start to see some distinct groups form."
   ]
  },
  {
   "cell_type": "code",
   "execution_count": null,
   "id": "f60f0133-2129-40c5-b11f-067d5fed15bd",
   "metadata": {
    "tags": []
   },
   "outputs": [],
   "source": [
    "dc_machines_plot_study_vs_goal <- dc_machines_training |>\n",
    "    ggplot(aes(x = study_time_goal, y = performance_goal, color = fct_recode(user_knowledge, \"Very Low\" = \"very_low\"))) +\n",
    "    geom_point(alpha = 0.5) +\n",
    "    xlab(\"Degree of study time on learning objects (goal)\") +\n",
    "    ylab(\"Performance in exams on learning objects (goal)\") +\n",
    "    labs(color = \"User Knowledge\") +\n",
    "    theme(text = element_text(size = 12)) +\n",
    "    ggtitle(\"Performance vs study time of different user knowledge groups\")\n",
    "dc_machines_plot_study_vs_goal"
   ]
  },
  {
   "cell_type": "markdown",
   "id": "1f6399fe-826e-4211-afe6-e2292fbf7099",
   "metadata": {},
   "source": [
    "## Methods"
   ]
  },
  {
   "cell_type": "markdown",
   "id": "a5c6cfa5-6acd-4660-814a-a9e11cda2322",
   "metadata": {},
   "source": [
    "### Classification System"
   ]
  },
  {
   "cell_type": "markdown",
   "id": "3470d872-53d6-4fbb-b9e9-f47bdf41380c",
   "metadata": {
    "tags": []
   },
   "source": [
    "K-Nearest Neighbors (KNN) is a classification method that predicts the classification of new, unlabeled observations based on the classes of its closest neighbors. KNN uses the distance between two points (Euclidean distance) in order to determine the proximity to each point to the new observation, then conducts of vote using the the chosen number of neighbors (K). Each nearby neighbour gets one vote (rectangular weight function), and the unlabeled observation is given the classification according to whichever class contributes the greatest number of votes. \n",
    "\n",
    "We will be using KNN in our project to determine if the user knowledge level of individual can be predicted using their study habits and exam performance. "
   ]
  },
  {
   "cell_type": "markdown",
   "id": "82a35e48-231a-4c46-9a8e-4b1540ae38ab",
   "metadata": {},
   "source": [
    "We will conduct our data analysis using **KNN classification** since we are predicting a categorical variable. We will be predicting user_knowledge. The variables we are going to use to predict are:\n",
    "- study_time_goal\n",
    "- performance_goal"
   ]
  },
  {
   "cell_type": "markdown",
   "id": "86797801-35cb-4fd9-bc74-0b967690d1dd",
   "metadata": {},
   "source": [
    "## Expected Outcomes and Significance"
   ]
  },
  {
   "cell_type": "markdown",
   "id": "0955c99e-975a-4ac2-85d9-f3e223814a73",
   "metadata": {},
   "source": [
    "We expect to find that our predictions for user knowledge will have high accuracy. We expect to see that exam performance and study time are good predictors of the user knowledge.\n",
    "\n",
    "We believe that these findings could contribute to predicting user knowledge for web-based learning applications (Kahraman, Colak, & Sagiroglu, 2013).\n",
    "\n",
    "Future questions that this could lead to include how we can adjust the tasks for students learning a topic (learning level) in order to create a dynamic and adaptive learning experience. For example, the creation of an intelligent artificial tutor that could tailor content based on user knowledge."
   ]
  },
  {
   "cell_type": "markdown",
   "id": "d965f09b-624c-435a-b7e1-c7429c5427e6",
   "metadata": {
    "tags": []
   },
   "source": [
    "# References"
   ]
  },
  {
   "cell_type": "markdown",
   "id": "8d4ded7e-e66d-405e-9385-180b03e2238b",
   "metadata": {},
   "source": [
    "[1] Kahraman, H. T., Sagiroglu, S., &amp; Colak, I. (2013). The development of intuitive knowledge classifier and the modeling of Domain Dependent Data. *Knowledge-Based Systems, 37*, 283–295. https://doi.org/10.1016/j.knosys.2012.08.009 "
   ]
  },
  {
   "cell_type": "markdown",
   "id": "e6a81e96-472d-4c98-b975-03ddea9ea590",
   "metadata": {},
   "source": [
    "[2] Kahraman, H. T., Colak, I., & Sagiroglu, S. (2013). User Knowledge Modeling. *UCI Machine Learning Repository*. https://doi.org/10.24432/C5231X."
   ]
  },
  {
   "cell_type": "code",
   "execution_count": null,
   "id": "450caa06-ad07-4dae-af88-681e83b39e06",
   "metadata": {},
   "outputs": [],
   "source": []
  }
 ],
 "metadata": {
  "kernelspec": {
   "display_name": "R",
   "language": "R",
   "name": "ir"
  },
  "language_info": {
   "codemirror_mode": "r",
   "file_extension": ".r",
   "mimetype": "text/x-r-source",
   "name": "R",
   "pygments_lexer": "r",
   "version": "4.2.2"
  }
 },
 "nbformat": 4,
 "nbformat_minor": 5
}
