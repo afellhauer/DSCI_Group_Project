{
 "cells": [
  {
   "cell_type": "markdown",
   "id": "83b24542-1b30-4820-a489-f2b81f41db88",
   "metadata": {
    "tags": []
   },
   "source": [
    "# Project Proposal: Predicting User Knowledge from Study Habits and Exam Performance\n"
   ]
  },
  {
   "cell_type": "markdown",
   "id": "7c6df1be-26a9-4b6b-80ad-f54d7ab62fb2",
   "metadata": {},
   "source": [
    "**Group 23** <br>\n",
    "Allison Fellhauer (38395166) <br>\n",
    "Agastya Kaul (78851433) <br>\n",
    "Grace Li (STUDENT_NUMBER) <br>\n",
    "Xiangyuan Li (STUDENT_NUMBER) <br>"
   ]
  },
  {
   "cell_type": "markdown",
   "id": "663ff831-4373-4bdf-a8a0-7b8ae36aa4cb",
   "metadata": {
    "tags": []
   },
   "source": [
    "## Introduction: Data set and background information"
   ]
  },
  {
   "cell_type": "markdown",
   "id": "b4836662-bbd7-4151-b4ff-040c6768ab60",
   "metadata": {},
   "source": [
    "### Background Information"
   ]
  },
  {
   "cell_type": "markdown",
   "id": "919bbb4b-6fd4-4240-8cc3-bf1526ed1997",
   "metadata": {},
   "source": [
    "#### User Modeling and User Knowledge"
   ]
  },
  {
   "cell_type": "markdown",
   "id": "d3bead10-9fbb-417d-a7e5-a996abc95b86",
   "metadata": {},
   "source": [
    "User modeling can be used to personalize a user's experience by tracking user interactions with a web page as a way to optimize their future interactions ([Kahraman et al. 2013](https://doi.org/10.1016/j.knosys.2012.08.009)). Some examples of user interactions that are assessed include pages the user has visited, the time spent on pages, and keystrokes ([Kahraman et al. 2013](https://doi.org/10.1016/j.knosys.2012.08.009)). User knowledge models can be used to evaluate and dynamically shape the learning experience of an individual, such as for an online learning environment ([Kahraman et al. 2013](https://doi.org/10.1016/j.knosys.2012.08.009)). "
   ]
  },
  {
   "cell_type": "markdown",
   "id": "30a735b4-84aa-4916-91a2-5b38cd4595cc",
   "metadata": {},
   "source": [
    "### About the data set"
   ]
  },
  {
   "cell_type": "markdown",
   "id": "e6fcb30f-7ffe-4782-bb50-e4a38eda42b6",
   "metadata": {
    "tags": []
   },
   "source": [
    "**Our data set:** [User Knowledge Modeling](https://doi.org/10.24432/C5231X)\n",
    "\n",
    "We have chosen to explore the user User Knowledge Modeling data set ([Kahraman et al. 2013](https://doi.org/10.1016/j.knosys.2012.08.009)), which is a data set that classifies users' knowledge of a topic (Electrical DC machines).\n",
    "\n",
    "There are 6 total variables in the data set: 5 features and 1 target.\n",
    "\n",
    "Features: <br>\n",
    "A) Goal topics (learning objects):\n",
    "- The degree of time spent studying the material [STG]\n",
    "- The degree of repetition of the material [SCG]\n",
    "- The performance in exams [PEG]\n",
    "\n",
    "B) Prerequisite topics\n",
    "- The degree of study time corresponding to the prerequisite objects [STR]\n",
    "- The knowledge level of the prerequisite objects [LPR]\n",
    "\n",
    "Target:\n",
    "- user knowledge [UNS].\n",
    "\n",
    "UNS has four levels:\n",
    "- very low (beginner)\n",
    "- low (intermediate)\n",
    "- middle (expert) \n",
    "- high (advanced)"
   ]
  },
  {
   "cell_type": "markdown",
   "id": "75629b46-e8e6-45e0-807e-8be1a9cd839d",
   "metadata": {},
   "source": [
    "### Our Question"
   ]
  },
  {
   "cell_type": "markdown",
   "id": "3fc7d736-fe54-4b04-bb2c-8c1a47d3ad64",
   "metadata": {},
   "source": [
    "**Can we predict the knowledge level of a user given their study habits and their performance on the exam?**\n",
    "\n",
    "We classify study habits as time spent studying and degree of repetition, which contributes to increased learning. Exam performance is also another way that can assess learning."
   ]
  },
  {
   "cell_type": "markdown",
   "id": "8cfb2c02-763e-4eee-97e0-1085c158f5f7",
   "metadata": {},
   "source": [
    "## Preliminary exploratory data analysis"
   ]
  },
  {
   "cell_type": "markdown",
   "id": "5b8cbb23-d3e9-4d00-bddb-4dbc01c2f55e",
   "metadata": {},
   "source": [
    "### Loading necessary libraries and reading in the data"
   ]
  },
  {
   "cell_type": "code",
   "execution_count": 1,
   "id": "fa051463-32e8-45c5-8617-fb81ff48d763",
   "metadata": {
    "tags": []
   },
   "outputs": [
    {
     "name": "stderr",
     "output_type": "stream",
     "text": [
      "── \u001b[1mAttaching packages\u001b[22m ─────────────────────────────────────── tidyverse 1.3.2 ──\n",
      "\u001b[32m✔\u001b[39m \u001b[34mggplot2\u001b[39m 3.4.2     \u001b[32m✔\u001b[39m \u001b[34mpurrr  \u001b[39m 1.0.1\n",
      "\u001b[32m✔\u001b[39m \u001b[34mtibble \u001b[39m 3.2.1     \u001b[32m✔\u001b[39m \u001b[34mdplyr  \u001b[39m 1.1.1\n",
      "\u001b[32m✔\u001b[39m \u001b[34mtidyr  \u001b[39m 1.3.0     \u001b[32m✔\u001b[39m \u001b[34mstringr\u001b[39m 1.5.0\n",
      "\u001b[32m✔\u001b[39m \u001b[34mreadr  \u001b[39m 2.1.3     \u001b[32m✔\u001b[39m \u001b[34mforcats\u001b[39m 0.5.2\n",
      "── \u001b[1mConflicts\u001b[22m ────────────────────────────────────────── tidyverse_conflicts() ──\n",
      "\u001b[31m✖\u001b[39m \u001b[34mdplyr\u001b[39m::\u001b[32mfilter()\u001b[39m masks \u001b[34mstats\u001b[39m::filter()\n",
      "\u001b[31m✖\u001b[39m \u001b[34mdplyr\u001b[39m::\u001b[32mlag()\u001b[39m    masks \u001b[34mstats\u001b[39m::lag()\n",
      "── \u001b[1mAttaching packages\u001b[22m ────────────────────────────────────── tidymodels 1.0.0 ──\n",
      "\n",
      "\u001b[32m✔\u001b[39m \u001b[34mbroom       \u001b[39m 1.0.2     \u001b[32m✔\u001b[39m \u001b[34mrsample     \u001b[39m 1.1.1\n",
      "\u001b[32m✔\u001b[39m \u001b[34mdials       \u001b[39m 1.1.0     \u001b[32m✔\u001b[39m \u001b[34mtune        \u001b[39m 1.0.1\n",
      "\u001b[32m✔\u001b[39m \u001b[34minfer       \u001b[39m 1.0.4     \u001b[32m✔\u001b[39m \u001b[34mworkflows   \u001b[39m 1.1.2\n",
      "\u001b[32m✔\u001b[39m \u001b[34mmodeldata   \u001b[39m 1.0.1     \u001b[32m✔\u001b[39m \u001b[34mworkflowsets\u001b[39m 1.0.0\n",
      "\u001b[32m✔\u001b[39m \u001b[34mparsnip     \u001b[39m 1.0.3     \u001b[32m✔\u001b[39m \u001b[34myardstick   \u001b[39m 1.1.0\n",
      "\u001b[32m✔\u001b[39m \u001b[34mrecipes     \u001b[39m 1.0.4     \n",
      "\n",
      "── \u001b[1mConflicts\u001b[22m ───────────────────────────────────────── tidymodels_conflicts() ──\n",
      "\u001b[31m✖\u001b[39m \u001b[34mscales\u001b[39m::\u001b[32mdiscard()\u001b[39m masks \u001b[34mpurrr\u001b[39m::discard()\n",
      "\u001b[31m✖\u001b[39m \u001b[34mdplyr\u001b[39m::\u001b[32mfilter()\u001b[39m   masks \u001b[34mstats\u001b[39m::filter()\n",
      "\u001b[31m✖\u001b[39m \u001b[34mrecipes\u001b[39m::\u001b[32mfixed()\u001b[39m  masks \u001b[34mstringr\u001b[39m::fixed()\n",
      "\u001b[31m✖\u001b[39m \u001b[34mdplyr\u001b[39m::\u001b[32mlag()\u001b[39m      masks \u001b[34mstats\u001b[39m::lag()\n",
      "\u001b[31m✖\u001b[39m \u001b[34myardstick\u001b[39m::\u001b[32mspec()\u001b[39m masks \u001b[34mreadr\u001b[39m::spec()\n",
      "\u001b[31m✖\u001b[39m \u001b[34mrecipes\u001b[39m::\u001b[32mstep()\u001b[39m   masks \u001b[34mstats\u001b[39m::step()\n",
      "\u001b[34m•\u001b[39m Learn how to get started at \u001b[32mhttps://www.tidymodels.org/start/\u001b[39m\n",
      "\n",
      "Warning message:\n",
      "“unable to access index for repository https://cran.r-project.org/src/contrib:\n",
      "  cannot open URL 'https://cran.r-project.org/src/contrib/PACKAGES'”\n",
      "Warning message:\n",
      "“package ‘kknn’ is not available for this version of R\n",
      "\n",
      "A version of this package for your version of R might be available elsewhere,\n",
      "see the ideas at\n",
      "https://cran.r-project.org/doc/manuals/r-patched/R-admin.html#Installing-packages”\n"
     ]
    },
    {
     "ename": "ERROR",
     "evalue": "Error in library(kknn): there is no package called ‘kknn’\n",
     "output_type": "error",
     "traceback": [
      "Error in library(kknn): there is no package called ‘kknn’\nTraceback:\n",
      "1. library(kknn)"
     ]
    }
   ],
   "source": [
    "#load all necessarily libraries\n",
    "library(tidyverse)\n",
    "library(repr)\n",
    "library(tidymodels)\n",
    "install.packages(\"kknn\") # this package needs to be loaded in for future classification\n",
    "library(kknn)\n",
    "install.packages(\"RColorBrewer\")\n",
    "library(RColorBrewer)\n",
    "\n",
    "#read data from the web (GitHub raw file)\n",
    "dc_machines <- read_csv(\"https://raw.githubusercontent.com/afellhauer/DSCI_Group_Project/main/data/Data_User_Modeling_Dataset_Hamdi.csv\")\n",
    "head(dc_machines)"
   ]
  },
  {
   "cell_type": "markdown",
   "id": "bd4ef601-87b7-4461-a1cf-4710a87e77b9",
   "metadata": {},
   "source": [
    "### Make data usable and readable"
   ]
  },
  {
   "cell_type": "markdown",
   "id": "44a5ee15-87b6-49e6-96a4-adc52b0d2a96",
   "metadata": {},
   "source": [
    "Looking at the values, the format is tidy. To make the data usable, UNS (user_knowledge) needs to be converted from a character to a factor. To increase readability, we renamed all variables. We [checked for any missing data](https://www.tutorialspoint.com/dealing-with-missing-data-in-r) and [printed the result](https://www.geeksforgeeks.org/printing-output-of-an-r-program/). There are no missing values."
   ]
  },
  {
   "cell_type": "code",
   "execution_count": null,
   "id": "b0b73c5c-8e04-46b6-8704-63e066fb7e44",
   "metadata": {
    "tags": []
   },
   "outputs": [],
   "source": [
    "dc_machines_mutate <- dc_machines |>\n",
    "    mutate(UNS = as_factor(UNS)) |> #change the class from a chr to a factor\n",
    "    rename(\"study_time_goal\" = STG, #relabel all variables to understand them better\n",
    "           \"repetition\" = SCG,\n",
    "           \"study_time_related\" = STR,\n",
    "           \"performance_related\" = LPR, \n",
    "           \"performance_goal\" = PEG,\n",
    "           \"user_knowledge\" = UNS)\n",
    "missing <- sum(is.na(dc_machines_mutate)) # check for missing values\n",
    "print(paste(\"Number of missing values: \", missing))"
   ]
  },
  {
   "cell_type": "code",
   "execution_count": null,
   "id": "96745ce8-f7d7-44fc-a36c-1210658f4a11",
   "metadata": {
    "tags": []
   },
   "outputs": [],
   "source": [
    "head(dc_machines_mutate) # view data"
   ]
  },
  {
   "cell_type": "markdown",
   "id": "0f36811e-54ca-4a87-a806-214231d8b10c",
   "metadata": {},
   "source": [
    "### Split the data into training and testing sets"
   ]
  },
  {
   "cell_type": "markdown",
   "id": "2a42632b-bfc6-4269-9764-509a0da3d332",
   "metadata": {},
   "source": [
    "To ensure reproducibility, we set the seed. We used a proportion of 0.75 for the training to testing ratio. We also stratified the data using user_knowledge, which is the class we are trying to predict. "
   ]
  },
  {
   "cell_type": "code",
   "execution_count": null,
   "id": "fe20eb56-e7be-40b3-8afb-dac67acee27b",
   "metadata": {
    "tags": []
   },
   "outputs": [],
   "source": [
    "set.seed(200) #set seed to be reproducible\n",
    "#create the initial split of the data\n",
    "#stratify based on user_knowledge\n",
    "dc_machines_split <- initial_split(dc_machines_mutate, prop = 0.75, strata = user_knowledge)\n",
    "\n",
    "#collected the testing and training portions\n",
    "dc_machines_training <- training(dc_machines_split)\n",
    "dc_machines_testing <- testing(dc_machines_split)\n",
    "\n",
    "glimpse(dc_machines_training)"
   ]
  },
  {
   "cell_type": "markdown",
   "id": "585204a3-5e24-4506-9cc6-fbe786a89cb5",
   "metadata": {},
   "source": [
    "### Summarizing the data"
   ]
  },
  {
   "cell_type": "markdown",
   "id": "15d4b060-d961-41c1-b993-d0bbe436ec2a",
   "metadata": {},
   "source": [
    "We examined how balanced or unbalanced the data set is. We created a table that summarized the number of counts for each group of the user_knowledge variable. \n",
    "\n",
    "The very_low (beginner) knowledge level is not as represented in this data set."
   ]
  },
  {
   "cell_type": "code",
   "execution_count": null,
   "id": "0a9b351c-ee1c-4b5e-9d73-aaf2e2b11c77",
   "metadata": {
    "tags": []
   },
   "outputs": [],
   "source": [
    "summary_counts <- dc_machines_training |>\n",
    "    group_by(user_knowledge) |> #group based on the class\n",
    "    summarize(count = n()) #gets the count (number of observations of each)\n",
    "summary_counts"
   ]
  },
  {
   "cell_type": "markdown",
   "id": "5d4ae292-4222-4153-ad33-ec94f01dbd15",
   "metadata": {},
   "source": [
    "**Table 1**: Proportion of observations classified as each user knowledge level (very_low, low, high, middle)"
   ]
  },
  {
   "cell_type": "markdown",
   "id": "e63fd221-ba26-4aed-90ba-8c4c4c7eae91",
   "metadata": {},
   "source": [
    "We then summarized the means of our predictors for each class."
   ]
  },
  {
   "cell_type": "code",
   "execution_count": null,
   "id": "816d2c47-6626-4fcc-844b-83a1e7ffc44e",
   "metadata": {
    "tags": []
   },
   "outputs": [],
   "source": [
    "summary <- dc_machines_training |>\n",
    "    select(user_knowledge, study_time_goal, repetition, performance_goal) |> \n",
    "    #select only the class and the predictors\n",
    "    group_by(user_knowledge) |>\n",
    "    summarize(\"mean_study_time\" = mean(study_time_goal), \"mean_repetition\" = mean(repetition),\n",
    "              \"mean_exam_score\" = mean(performance_goal)) \n",
    "    #get the mean for each predictor for each group\n",
    "summary"
   ]
  },
  {
   "cell_type": "markdown",
   "id": "48e19671-ed57-4917-8668-ea21e2b214e7",
   "metadata": {
    "tags": []
   },
   "source": [
    "**Table 2**: Mean study time and mean exam score for each user knowledge level (very_low, low, middle, high)"
   ]
  },
  {
   "cell_type": "markdown",
   "id": "a12f0adc-2d62-4b5c-971f-833ef0421d2e",
   "metadata": {},
   "source": [
    "### Visualize the data"
   ]
  },
  {
   "cell_type": "markdown",
   "id": "3c3dba90-2c2a-40f3-bdba-6ae39befe108",
   "metadata": {},
   "source": [
    "We visualized the distribution of the different groups according to their counts. Again, this highlights that the data is not completely balanced.\n",
    "\n",
    "*To left align the caption, we used [this code](https://stackoverflow.com/questions/64701500/left-align-ggplot-caption)*."
   ]
  },
  {
   "cell_type": "code",
   "execution_count": null,
   "id": "662cc24b-4556-4297-b076-34aa8b0663dd",
   "metadata": {
    "tags": []
   },
   "outputs": [],
   "source": [
    "dc_machines_plot_distribution <- dc_machines_training |>\n",
    "    ggplot(aes(x = fct_recode(user_knowledge, \"Very Low\" = \"very_low\"), fill = user_knowledge)) + #change the label of very_low to Very Low\n",
    "    geom_bar() + #use the default stat = \"count\"\n",
    "    xlab(\"Category of user knowledge\") +\n",
    "    ylab(\"Count\")\n",
    "\n",
    "#make the plot look nicer\n",
    "dc_machines_plot_distribution <- dc_machines_plot_distribution +\n",
    "    theme(text = element_text(size = 15), legend.position = \"none\", #remove the legend\n",
    "         plot.caption = element_text(hjust = 0)) + #set the text to left align\n",
    "    ggtitle(\"Distribution of User Knowledge Groups\") +\n",
    "    labs(caption = \"\n",
    "Figure 1: Number of observations for each user knowledge group.Very low represents \n",
    "beginners, low represents intermediate, middle represents expert, and high \n",
    "represents advanced user knowledge\") +\n",
    "    scale_color_brewer(palette = \"Set2\") #set the color palette\n",
    "    \n",
    "dc_machines_plot_distribution"
   ]
  },
  {
   "cell_type": "markdown",
   "id": "a4e48e36-9e10-410d-828f-8cb5436c1d88",
   "metadata": {},
   "source": [
    "Then, we plotted the data according to study time and exam performance of each of the user knowledge groups. We start to see some distinct groups form.\n",
    "\n",
    "*To left align the caption, we used [this code](https://stackoverflow.com/questions/64701500/left-align-ggplot-caption)*."
   ]
  },
  {
   "cell_type": "code",
   "execution_count": null,
   "id": "f60f0133-2129-40c5-b11f-067d5fed15bd",
   "metadata": {
    "tags": []
   },
   "outputs": [],
   "source": [
    "dc_machines_plot_study_vs_goal <- dc_machines_training |>\n",
    "    ggplot(aes(x = study_time_goal, y = performance_goal, \n",
    "               color = fct_recode(user_knowledge, \"Very Low\" = \"very_low\"))) + #change the label of very_low to Very Low\n",
    "    geom_point(alpha = 0.5) +\n",
    "    xlab(\"Degree of study time on learning objects (goal)\") +\n",
    "    ylab(\"Performance in exams on learning objects (goal)\") +\n",
    "    labs(color = \"User Knowledge\", \n",
    "        caption = \"\n",
    "Figure 2: the perfomance and study time of users according to their learning group.\n",
    "Very low represents beginners, low represents intermediate, middle represents expert, \n",
    "and high represents advanced user knowledge\") +\n",
    "    theme(text = element_text(size = 12), plot.caption = element_text(hjust = 0)) +\n",
    "    ggtitle(\"Performance vs Study Time of User Knowledge Groups\")\n",
    "dc_machines_plot_study_vs_goal"
   ]
  },
  {
   "cell_type": "markdown",
   "id": "1f6399fe-826e-4211-afe6-e2292fbf7099",
   "metadata": {},
   "source": [
    "## Methods"
   ]
  },
  {
   "cell_type": "markdown",
   "id": "a5c6cfa5-6acd-4660-814a-a9e11cda2322",
   "metadata": {},
   "source": [
    "### Classification System"
   ]
  },
  {
   "cell_type": "markdown",
   "id": "3470d872-53d6-4fbb-b9e9-f47bdf41380c",
   "metadata": {
    "tags": []
   },
   "source": [
    "We will be using the k-nearest neighbors (KNN) algorithm in our project to determine if the user knowledge level of an individual can be predicted using their study habits and exam performance. "
   ]
  },
  {
   "cell_type": "markdown",
   "id": "82a35e48-231a-4c46-9a8e-4b1540ae38ab",
   "metadata": {},
   "source": [
    "We will conduct our data analysis using **KNN classification** since we are predicting a categorical variable. \n",
    "\n",
    "We will be using the following variables: \n",
    "- user_knowledge (class)\n",
    "- study_time_goal (predictor)\n",
    "- repetition (predictor)\n",
    "- performance_goal (predictor)"
   ]
  },
  {
   "cell_type": "markdown",
   "id": "fd996b10-70a0-450c-8801-afe222c9c909",
   "metadata": {},
   "source": [
    "### Steps\n",
    "1.  Build the recipe using user_knowledge as the classifier, study_time_goal and performance_goal as the predictors, and the training set as the data.  \n",
    "2.  Choose the appropriate K-value for the training set using 5-fold cross-validation and compare accuracy for each selectio  of K (tune the model).\n",
    "3.  Create the KNN model using the selected K value.\n",
    "4.  Train the classifier using the training set.\n",
    "5.  Predict the labels for the unseen testing set.\n",
    "6.  Evaluate accuracy and create a confusion matrix to assess precision and recall.\n",
    "7.  Analyze performance using precision, recall, and accuracy.\n",
    "8.  Discuss outcomes and provide suggestions for improving the model."
   ]
  },
  {
   "cell_type": "markdown",
   "id": "c91a7815-bc5a-4549-96c0-6cbaf1009234",
   "metadata": {},
   "source": [
    "### Visualization\n"
   ]
  },
  {
   "cell_type": "markdown",
   "id": "0e41afc2-19d6-4a80-b42f-e75df8b8ae53",
   "metadata": {
    "tags": []
   },
   "source": [
    "We will visualize our data by:\n",
    "1. Plotting neighbors vs. accuracy of the cross-validation\n",
    "2. Displaying the confusion matrix"
   ]
  },
  {
   "cell_type": "markdown",
   "id": "86797801-35cb-4fd9-bc74-0b967690d1dd",
   "metadata": {},
   "source": [
    "## Expected Outcomes and Significance"
   ]
  },
  {
   "cell_type": "markdown",
   "id": "0955c99e-975a-4ac2-85d9-f3e223814a73",
   "metadata": {},
   "source": [
    "We expect to see that exam performance and study time are good predictors of user knowledge.\n",
    "\n",
    "We believe that these findings could contribute to predicting user knowledge for web-based learning applications ([Kahraman et al. 2013](https://doi.org/10.1016/j.knosys.2012.08.009)).\n",
    "\n",
    "Future questions that this could lead to include how we can adjust the tasks for students learning a topic to create a dynamic and adaptive learning experience. For example, the creation of an intelligent artificial tutor that could tailor content based on user knowledge."
   ]
  },
  {
   "cell_type": "markdown",
   "id": "d965f09b-624c-435a-b7e1-c7429c5427e6",
   "metadata": {
    "tags": []
   },
   "source": [
    "# References"
   ]
  },
  {
   "cell_type": "markdown",
   "id": "8d4ded7e-e66d-405e-9385-180b03e2238b",
   "metadata": {},
   "source": [
    "[1](https://doi.org/10.1016/j.knosys.2012.08.009) Kahraman, H. T., Sagiroglu, S., &amp; Colak, I. (2013). The development of intuitive knowledge classifier and the modeling of Domain Dependent Data. *Knowledge-Based Systems, 37*, 283–295. https://doi.org/10.1016/j.knosys.2012.08.009 "
   ]
  },
  {
   "cell_type": "markdown",
   "id": "e6a81e96-472d-4c98-b975-03ddea9ea590",
   "metadata": {},
   "source": [
    "[2](https://doi.org/10.24432/C5231X) Kahraman, H. T., Colak, I., & Sagiroglu, S. (2013). User Knowledge Modeling. *UCI Machine Learning Repository*. https://doi.org/10.24432/C5231X."
   ]
  },
  {
   "cell_type": "markdown",
   "id": "c82339b9-56bf-4ce5-8cf5-ac05bec9c9f7",
   "metadata": {},
   "source": [
    "[3](https://datasciencebook.ca/) Timbers, T., Campbell, T., & Lee, M. (2023) Data Science: A First Introduction. CRC Press, Taylor & Francis Group. https://datasciencebook.ca/"
   ]
  },
  {
   "cell_type": "code",
   "execution_count": null,
   "id": "6f5858ed-2930-4423-8a45-137c58a0262c",
   "metadata": {},
   "outputs": [],
   "source": []
  }
 ],
 "metadata": {
  "kernelspec": {
   "display_name": "R",
   "language": "R",
   "name": "ir"
  },
  "language_info": {
   "codemirror_mode": "r",
   "file_extension": ".r",
   "mimetype": "text/x-r-source",
   "name": "R",
   "pygments_lexer": "r",
   "version": "4.2.2"
  }
 },
 "nbformat": 4,
 "nbformat_minor": 5
}
